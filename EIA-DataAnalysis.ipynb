{
 "cells": [
  {
   "cell_type": "markdown",
   "metadata": {},
   "source": [
    "# Decoding the U.S. Electricity Market: Unraveling Dynamics through Data Exploration, Predictive Modeling, and Time Series Forecasting"
   ]
  },
  {
   "cell_type": "markdown",
   "metadata": {},
   "source": [
    "### Data Transformation and Cleaning"
   ]
  },
  {
   "cell_type": "code",
   "execution_count": 2,
   "metadata": {},
   "outputs": [],
   "source": [
    "import pandas as pd\n",
    "from matplotlib import pyplot as plt\n",
    "import seaborn as sns"
   ]
  },
  {
   "cell_type": "markdown",
   "metadata": {},
   "source": [
    "### Load and transform the Dataset"
   ]
  },
  {
   "cell_type": "code",
   "execution_count": 3,
   "metadata": {},
   "outputs": [],
   "source": [
    "# Read the extracted JSON file into a Pandas DataFrame\n",
    "data_eia = pd.read_json(\"----------path_to_your_scraped_json_data-------\")\n",
    "\n",
    "# Flatten the nested JSON structure using json_normalize\n",
    "x = pd.json_normalize(data_eia['response'])\n",
    "x = pd.json_normalize(x['data'])\n",
    "\n",
    "# Transpose the DataFrame for easier handling of nested structures\n",
    "df = x.T\n",
    "\n",
    "# Create an empty list to store individual DataFrames\n",
    "dfs = []\n",
    "\n",
    "# Loop through columns in the transposed DataFrame\n",
    "for i in range(df.shape[1]-1, -1, -1):\n",
    "    # Flatten each nested JSON structure within the column\n",
    "    x_df = pd.json_normalize(df[i])\n",
    "    # Append the flattened DataFrame to the list\n",
    "    dfs.append(x_df)\n",
    "\n",
    "# Concatenate the list of DataFrames into a single DataFrame\n",
    "concatenated_df = pd.concat(dfs, ignore_index=True)\n",
    "\n",
    "# Save the concatenated DataFrame as a CSV file\n",
    "concatenated_df.to_csv('electricity_retailSales_data_2010-23.csv', index=False)"
   ]
  },
  {
   "cell_type": "markdown",
   "metadata": {},
   "source": [
    "This code reads a JSON file, flattens the nested structures using json_normalize, transposes the DataFrame for easier handling, and then concatenates the individual DataFrames into a single DataFrame. Finally, it saves the resulting DataFrame as a CSV file."
   ]
  },
  {
   "cell_type": "markdown",
   "metadata": {},
   "source": [
    "### Data PreProcessing"
   ]
  },
  {
   "cell_type": "code",
   "execution_count": 8,
   "metadata": {},
   "outputs": [
    {
     "data": {
      "text/html": [
       "<div>\n",
       "<style scoped>\n",
       "    .dataframe tbody tr th:only-of-type {\n",
       "        vertical-align: middle;\n",
       "    }\n",
       "\n",
       "    .dataframe tbody tr th {\n",
       "        vertical-align: top;\n",
       "    }\n",
       "\n",
       "    .dataframe thead th {\n",
       "        text-align: right;\n",
       "    }\n",
       "</style>\n",
       "<table border=\"1\" class=\"dataframe\">\n",
       "  <thead>\n",
       "    <tr style=\"text-align: right;\">\n",
       "      <th></th>\n",
       "      <th>period</th>\n",
       "      <th>stateid</th>\n",
       "      <th>stateDescription</th>\n",
       "      <th>sectorid</th>\n",
       "      <th>sectorName</th>\n",
       "      <th>customers</th>\n",
       "      <th>price</th>\n",
       "      <th>revenue</th>\n",
       "      <th>sales</th>\n",
       "      <th>customers-units</th>\n",
       "      <th>price-units</th>\n",
       "      <th>revenue-units</th>\n",
       "      <th>sales-units</th>\n",
       "    </tr>\n",
       "  </thead>\n",
       "  <tbody>\n",
       "    <tr>\n",
       "      <th>0</th>\n",
       "      <td>2023-08</td>\n",
       "      <td>NM</td>\n",
       "      <td>New Mexico</td>\n",
       "      <td>COM</td>\n",
       "      <td>commercial</td>\n",
       "      <td>146.67</td>\n",
       "      <td>11.34</td>\n",
       "      <td>107.93</td>\n",
       "      <td>951.39</td>\n",
       "      <td>number of customers in thousands</td>\n",
       "      <td>cents per kilowatthour</td>\n",
       "      <td>million dollars</td>\n",
       "      <td>million kilowatthours</td>\n",
       "    </tr>\n",
       "    <tr>\n",
       "      <th>1</th>\n",
       "      <td>2023-08</td>\n",
       "      <td>SC</td>\n",
       "      <td>South Carolina</td>\n",
       "      <td>IND</td>\n",
       "      <td>industrial</td>\n",
       "      <td>3.65</td>\n",
       "      <td>7.11</td>\n",
       "      <td>164.46</td>\n",
       "      <td>2311.44</td>\n",
       "      <td>number of customers in thousands</td>\n",
       "      <td>cents per kilowatthour</td>\n",
       "      <td>million dollars</td>\n",
       "      <td>million kilowatthours</td>\n",
       "    </tr>\n",
       "    <tr>\n",
       "      <th>2</th>\n",
       "      <td>2023-08</td>\n",
       "      <td>NEW</td>\n",
       "      <td>New England</td>\n",
       "      <td>IND</td>\n",
       "      <td>industrial</td>\n",
       "      <td>21.64</td>\n",
       "      <td>15.70</td>\n",
       "      <td>206.81</td>\n",
       "      <td>1317.47</td>\n",
       "      <td>number of customers in thousands</td>\n",
       "      <td>cents per kilowatthour</td>\n",
       "      <td>million dollars</td>\n",
       "      <td>million kilowatthours</td>\n",
       "    </tr>\n",
       "    <tr>\n",
       "      <th>3</th>\n",
       "      <td>2023-08</td>\n",
       "      <td>NEW</td>\n",
       "      <td>New England</td>\n",
       "      <td>COM</td>\n",
       "      <td>commercial</td>\n",
       "      <td>945.66</td>\n",
       "      <td>18.98</td>\n",
       "      <td>847.56</td>\n",
       "      <td>4465.05</td>\n",
       "      <td>number of customers in thousands</td>\n",
       "      <td>cents per kilowatthour</td>\n",
       "      <td>million dollars</td>\n",
       "      <td>million kilowatthours</td>\n",
       "    </tr>\n",
       "    <tr>\n",
       "      <th>4</th>\n",
       "      <td>2023-08</td>\n",
       "      <td>NEW</td>\n",
       "      <td>New England</td>\n",
       "      <td>ALL</td>\n",
       "      <td>all sectors</td>\n",
       "      <td>7546.86</td>\n",
       "      <td>22.18</td>\n",
       "      <td>2328.06</td>\n",
       "      <td>10494.39</td>\n",
       "      <td>number of customers in thousands</td>\n",
       "      <td>cents per kilowatthour</td>\n",
       "      <td>million dollars</td>\n",
       "      <td>million kilowatthours</td>\n",
       "    </tr>\n",
       "  </tbody>\n",
       "</table>\n",
       "</div>"
      ],
      "text/plain": [
       "    period stateid stateDescription sectorid   sectorName  customers  price  \\\n",
       "0  2023-08      NM       New Mexico      COM   commercial     146.67  11.34   \n",
       "1  2023-08      SC   South Carolina      IND   industrial       3.65   7.11   \n",
       "2  2023-08     NEW      New England      IND   industrial      21.64  15.70   \n",
       "3  2023-08     NEW      New England      COM   commercial     945.66  18.98   \n",
       "4  2023-08     NEW      New England      ALL  all sectors    7546.86  22.18   \n",
       "\n",
       "   revenue     sales                   customers-units  \\\n",
       "0   107.93    951.39  number of customers in thousands   \n",
       "1   164.46   2311.44  number of customers in thousands   \n",
       "2   206.81   1317.47  number of customers in thousands   \n",
       "3   847.56   4465.05  number of customers in thousands   \n",
       "4  2328.06  10494.39  number of customers in thousands   \n",
       "\n",
       "              price-units    revenue-units            sales-units  \n",
       "0  cents per kilowatthour  million dollars  million kilowatthours  \n",
       "1  cents per kilowatthour  million dollars  million kilowatthours  \n",
       "2  cents per kilowatthour  million dollars  million kilowatthours  \n",
       "3  cents per kilowatthour  million dollars  million kilowatthours  \n",
       "4  cents per kilowatthour  million dollars  million kilowatthours  "
      ]
     },
     "execution_count": 8,
     "metadata": {},
     "output_type": "execute_result"
    }
   ],
   "source": [
    "df = pd.read_csv('/Users/zaid/Desktop/Study/EIA Project/electricity_retailSales_data_2010-23.csv')\n",
    "\n",
    "# Drop the null values\n",
    "filtered_df = df.dropna()\n",
    "\n",
    "# Round the numerical values to 2 decimal places\n",
    "filtered_df = round(filtered_df,2)\n",
    "\n",
    "# Converting the customers column in thousands\n",
    "filtered_df['customers']  = filtered_df['customers'].apply(lambda x:round(x/1000,2))\n",
    "filtered_df['customers-units'] = filtered_df['customers-units'].apply(lambda x:\"number of customers in thousands\" if x == 'number of customers' else 'number of customers')\n",
    "\n",
    "filtered_df.head()"
   ]
  },
  {
   "cell_type": "markdown",
   "metadata": {},
   "source": [
    "### Exploratory Data Analysis"
   ]
  },
  {
   "cell_type": "code",
   "execution_count": 9,
   "metadata": {},
   "outputs": [
    {
     "name": "stdout",
     "output_type": "stream",
     "text": [
      "<class 'pandas.core.frame.DataFrame'>\n",
      "RangeIndex: 58032 entries, 0 to 58031\n",
      "Data columns (total 13 columns):\n",
      " #   Column            Non-Null Count  Dtype  \n",
      "---  ------            --------------  -----  \n",
      " 0   period            58032 non-null  object \n",
      " 1   stateid           58032 non-null  object \n",
      " 2   stateDescription  58032 non-null  object \n",
      " 3   sectorid          58032 non-null  object \n",
      " 4   sectorName        58032 non-null  object \n",
      " 5   customers         48360 non-null  float64\n",
      " 6   price             48360 non-null  float64\n",
      " 7   revenue           48360 non-null  float64\n",
      " 8   sales             48360 non-null  float64\n",
      " 9   customers-units   58032 non-null  object \n",
      " 10  price-units       58032 non-null  object \n",
      " 11  revenue-units     58032 non-null  object \n",
      " 12  sales-units       58032 non-null  object \n",
      "dtypes: float64(4), object(9)\n",
      "memory usage: 5.8+ MB\n"
     ]
    }
   ],
   "source": [
    "# Display information about the concatenated DataFrame\n",
    "concatenated_df.info()"
   ]
  },
  {
   "cell_type": "code",
   "execution_count": 10,
   "metadata": {},
   "outputs": [
    {
     "data": {
      "text/plain": [
       "period                 0\n",
       "stateid                0\n",
       "stateDescription       0\n",
       "sectorid               0\n",
       "sectorName             0\n",
       "customers           9672\n",
       "price               9672\n",
       "revenue             9672\n",
       "sales               9672\n",
       "customers-units        0\n",
       "price-units            0\n",
       "revenue-units          0\n",
       "sales-units            0\n",
       "dtype: int64"
      ]
     },
     "execution_count": 10,
     "metadata": {},
     "output_type": "execute_result"
    }
   ],
   "source": [
    "# Check for null values\n",
    "concatenated_df.isna().sum()"
   ]
  },
  {
   "cell_type": "markdown",
   "metadata": {},
   "source": [
    "#### How is the number of customers, revenue earned and sales distributed over the sectors?"
   ]
  },
  {
   "cell_type": "code",
   "execution_count": 11,
   "metadata": {},
   "outputs": [
    {
     "data": {
      "image/png": "[encoded data removed]",
      "text/plain": [
       "<Figure size 1080x360 with 3 Axes>"
      ]
     },
     "metadata": {},
     "output_type": "display_data"
    }
   ],
   "source": [
    "from matplotlib import pyplot as plt\n",
    "import seaborn as sns\n",
    "\n",
    "# Prepare the data for creating a pie diagram \n",
    "pie_diagram_data = filtered_df.loc[(filtered_df['sectorName'] != 'all sectors') & (filtered_df['stateDescription'] != 'U.S. Total')].groupby(['sectorName']).agg({'customers':'sum', 'revenue':'sum','sales':'sum'})\n",
    "\n",
    "# Define colors and labels\n",
    "colors = sns.color_palette('colorblind')\n",
    "labels = pie_diagram_data.keys()\n",
    "\n",
    "# Create a figure with a 1x3 grid of subplots\n",
    "fig, axes = plt.subplots(1, 3, figsize=(15, 5))  \n",
    "\n",
    "# Loop through the data and create pie charts in subplots\n",
    "for i, (sector, values) in enumerate(pie_diagram_data.items()):\n",
    "    axes[i].pie(values, labels=pie_diagram_data.index, colors=colors, autopct='%.0f%%')\n",
    "    axes[i].set_title(sector)\n",
    "\n",
    "# Adjust spacing between subplots\n",
    "plt.tight_layout()\n",
    "\n",
    "# Display the pie chart subplots\n",
    "plt.show()"
   ]
  },
  {
   "cell_type": "markdown",
   "metadata": {},
   "source": [
    "**Residential Dominance (Customer Share: 87%):**\n",
    "- The residential sector boasts the largest customer base, with approximately 87% of the total customers.\n",
    "- It leads in revenue generation, contributing about 36% of the total revenue.\n",
    "- Total sales in the residential sector account for approximately 38% of the overall sales.\n",
    "- Conclusively, the residential sector has the largest customer base, generating the highest revenue and total sales, despite having the **highest average price per unit**. This sector plays a central role in the business.\n",
    "\n",
    "**Commercial Significance (Customer Share: 12%):**\n",
    "- The commercial sector, with around 12% of the total customers, still plays a vital role.\n",
    "- It contributes significantly to revenue, accounting for about 36% of the total revenue.\n",
    "- Total sales in the commercial sector represent approximately 36% of the overall sales.\n",
    "- Conclusively, the commercial sector, with a substantial customer base, contributes significantly to revenue and total sales. It's an essential economic driver.\n",
    "\n",
    "**Industrial Prowess (Customer Share: 1%):**\n",
    "- Despite a smaller customer base (about 1% of the total customers), the industrial sector has a notable impact.\n",
    "- It contributes substantially to revenue, representing approximately 17% of the total revenue.\n",
    "- Total sales in the industrial sector make up approximately 26% of the overall sales.\n",
    "- Conclusively, the industrial sector, though smaller in customer base, still contributes substantially to revenue and total sales, indicating its economic importance.\n",
    "\n",
    "**Transportation's Minor Role (Customer Share: <0.01%):**\n",
    "- The transportation sector has the smallest presence with less than 0.01% of the total customers.\n",
    "- It generates the least revenue, accounting for less than 1% of the total revenue.\n",
    "- Total sales in the transportation sector make up less than 1% of the overall sales.\n",
    "\n",
    "These insights highlight the significant variation in customer distribution, revenue generation, and sales across sectors, underlining the dominance of the residential sector and the varying degrees of importance of the other sectors in the dataset.\n"
   ]
  },
  {
   "cell_type": "markdown",
   "metadata": {},
   "source": [
    "#### What is the mean price per unit for each sector?"
   ]
  },
  {
   "cell_type": "code",
   "execution_count": 12,
   "metadata": {},
   "outputs": [],
   "source": [
    "mean_price_per_sector = filtered_df.loc[(filtered_df['sectorName'] != 'all sectors') & (filtered_df['stateDescription'] != 'U.S. Total')].groupby(['sectorName']).agg({'price':'mean'})"
   ]
  },
  {
   "cell_type": "code",
   "execution_count": 13,
   "metadata": {},
   "outputs": [
    {
     "data": {
      "text/html": [
       "<div>\n",
       "<style scoped>\n",
       "    .dataframe tbody tr th:only-of-type {\n",
       "        vertical-align: middle;\n",
       "    }\n",
       "\n",
       "    .dataframe tbody tr th {\n",
       "        vertical-align: top;\n",
       "    }\n",
       "\n",
       "    .dataframe thead th {\n",
       "        text-align: right;\n",
       "    }\n",
       "</style>\n",
       "<table border=\"1\" class=\"dataframe\">\n",
       "  <thead>\n",
       "    <tr style=\"text-align: right;\">\n",
       "      <th></th>\n",
       "      <th>price</th>\n",
       "    </tr>\n",
       "    <tr>\n",
       "      <th>sectorName</th>\n",
       "      <th></th>\n",
       "    </tr>\n",
       "  </thead>\n",
       "  <tbody>\n",
       "    <tr>\n",
       "      <th>commercial</th>\n",
       "      <td>11.384471</td>\n",
       "    </tr>\n",
       "    <tr>\n",
       "      <th>industrial</th>\n",
       "      <td>8.332503</td>\n",
       "    </tr>\n",
       "    <tr>\n",
       "      <th>residential</th>\n",
       "      <td>13.844126</td>\n",
       "    </tr>\n",
       "    <tr>\n",
       "      <th>transportation</th>\n",
       "      <td>5.829817</td>\n",
       "    </tr>\n",
       "  </tbody>\n",
       "</table>\n",
       "</div>"
      ],
      "text/plain": [
       "                    price\n",
       "sectorName               \n",
       "commercial      11.384471\n",
       "industrial       8.332503\n",
       "residential     13.844126\n",
       "transportation   5.829817"
      ]
     },
     "execution_count": 13,
     "metadata": {},
     "output_type": "execute_result"
    }
   ],
   "source": [
    "mean_price_per_sector"
   ]
  },
  {
   "cell_type": "code",
   "execution_count": 14,
   "metadata": {},
   "outputs": [
    {
     "data": {
      "text/plain": [
       "<matplotlib.axes._subplots.AxesSubplot at 0x7ff65fc8bf90>"
      ]
     },
     "execution_count": 14,
     "metadata": {},
     "output_type": "execute_result"
    },
    {
     "data": {
      "image/png": "[encoded data removed]",
      "text/plain": [
       "<Figure size 432x288 with 1 Axes>"
      ]
     },
     "metadata": {
      "needs_background": "light"
     },
     "output_type": "display_data"
    }
   ],
   "source": [
    "sns.barplot(x = mean_price_per_sector.index, y = mean_price_per_sector.price)"
   ]
  },
  {
   "cell_type": "markdown",
   "metadata": {},
   "source": [
    "**Interesting Insight:** \n",
    "\n",
    "It can be observed that even though the residential sector constitutes for the highest number of customers, revenue and sales generated, it also is charged the highest average price per unit all over the states that is 13.84 cents per kilowatthour. If observed carefully, the commercial sector has a sales of 36% which is 2% less in comparison to residential sales (38% sales) which means that it would generate similar revenue as that from residential sector only if the prices woud have been similar but there is a differenec of aroud 2 cents per kilowatthour whih is cummilatively substantial."
   ]
  },
  {
   "cell_type": "markdown",
   "metadata": {},
   "source": [
    "### Playing around with the dates (Time Series)"
   ]
  },
  {
   "cell_type": "code",
   "execution_count": 15,
   "metadata": {},
   "outputs": [],
   "source": [
    "# Converting the period column in datetime format:\n",
    "\n",
    "filtered_df['period'] = pd.to_datetime(filtered_df['period'])"
   ]
  },
  {
   "cell_type": "markdown",
   "metadata": {},
   "source": [
    "#### How have the sales, price and revenue varied over time?\n",
    "\n",
    "1. Months"
   ]
  },
  {
   "cell_type": "code",
   "execution_count": 16,
   "metadata": {},
   "outputs": [],
   "source": [
    "monthly_avg = filtered_df.groupby(filtered_df.period.dt.month).mean()"
   ]
  },
  {
   "cell_type": "code",
   "execution_count": 17,
   "metadata": {},
   "outputs": [
    {
     "data": {
      "image/png": "[encoded data removed]",
      "text/plain": [
       "<Figure size 1080x360 with 3 Axes>"
      ]
     },
     "metadata": {
      "needs_background": "light"
     },
     "output_type": "display_data"
    }
   ],
   "source": [
    "# Create subplots for each column \n",
    "fig, axes = plt.subplots(nrows=1, ncols=3, figsize=(15, 5))\n",
    "\n",
    "# Columns to plot \n",
    "columns_to_plot = ['sales', 'price', 'revenue']\n",
    "\n",
    "# Define a list of colors for the lines\n",
    "colors = ['b', 'g', 'r']\n",
    "\n",
    "# Plot each selected column with a different color in a separate subplot\n",
    "for i, (column, color) in enumerate(zip(columns_to_plot, colors)):\n",
    "    axes[i].plot(monthly_avg.index, monthly_avg[column], linestyle='-', label=column, color=color)\n",
    "    axes[i].set_title(column)\n",
    "    axes[i].set_xlabel('Months')\n",
    "    axes[i].set_ylabel('Value')\n",
    "\n",
    "\n",
    "# Add a legend to differentiate the lines\n",
    "for ax in axes:\n",
    "    ax.legend()\n",
    "\n",
    "# Adjust subplot spacing\n",
    "plt.tight_layout()\n",
    "\n",
    "# Show the plot\n",
    "plt.show()"
   ]
  },
  {
   "cell_type": "markdown",
   "metadata": {},
   "source": [
    "2. Years"
   ]
  },
  {
   "cell_type": "code",
   "execution_count": 18,
   "metadata": {},
   "outputs": [],
   "source": [
    "yearly_avg = filtered_df.set_index(['period']).to_period(\"Y\").groupby('period').mean()"
   ]
  },
  {
   "cell_type": "code",
   "execution_count": 19,
   "metadata": {},
   "outputs": [],
   "source": [
    "# Convert the PeriodIndex to datetime\n",
    "yearly_avg.index = yearly_avg.index.to_timestamp()"
   ]
  },
  {
   "cell_type": "code",
   "execution_count": 20,
   "metadata": {},
   "outputs": [
    {
     "data": {
      "image/png": "[encoded data removed]",
      "text/plain": [
       "<Figure size 1080x360 with 3 Axes>"
      ]
     },
     "metadata": {
      "needs_background": "light"
     },
     "output_type": "display_data"
    }
   ],
   "source": [
    "# Create subplots for each column\n",
    "fig, axes = plt.subplots(nrows=1, ncols=3, figsize=(15, 5))\n",
    "\n",
    "# Columns to plot\n",
    "columns_to_plot = ['sales', 'price', 'revenue']\n",
    "\n",
    "# Define a list of colors for the lines\n",
    "colors = ['b', 'g', 'r']\n",
    "\n",
    "# Plot each selected column with a different color in a separate subplot\n",
    "for i, (column, color) in enumerate(zip(columns_to_plot, colors)):\n",
    "    axes[i].plot(yearly_avg.index, yearly_avg[column], linestyle='-', label=column, color=color)\n",
    "    axes[i].set_title(column)\n",
    "    axes[i].set_xlabel('Years')\n",
    "    axes[i].set_ylabel('Value')\n",
    "\n",
    "\n",
    "# Add a legend to differentiate the lines\n",
    "for ax in axes:\n",
    "    ax.legend()\n",
    "\n",
    "# Adjust subplot spacing\n",
    "plt.tight_layout()\n",
    "\n",
    "# Show the plot\n",
    "plt.show()"
   ]
  },
  {
   "cell_type": "markdown",
   "metadata": {},
   "source": [
    "#### How have the prices per unit varied over the years w.r.t sectors?"
   ]
  },
  {
   "cell_type": "code",
   "execution_count": 21,
   "metadata": {},
   "outputs": [],
   "source": [
    "price_by_sector = filtered_df.loc[(filtered_df['sectorName'] != 'all sectors') & (filtered_df['stateDescription'] != 'U.S. Total')].groupby([filtered_df.period.dt.year, filtered_df.sectorName]).agg({'price':'mean'})\n",
    "\n",
    "# Melt the DataFrame to create separate columns for each sector's price\n",
    "melted_df = pd.pivot_table(price_by_sector, index='period', columns='sectorName', values='price', aggfunc='first').reset_index()\n",
    "\n",
    "# Rename the columns to include the '_price' suffix\n",
    "melted_df.columns = ['period'] + [f'{sector}_price' for sector in melted_df.columns[1:]]"
   ]
  },
  {
   "cell_type": "code",
   "execution_count": 22,
   "metadata": {},
   "outputs": [
    {
     "data": {
      "text/html": [
       "<div>\n",
       "<style scoped>\n",
       "    .dataframe tbody tr th:only-of-type {\n",
       "        vertical-align: middle;\n",
       "    }\n",
       "\n",
       "    .dataframe tbody tr th {\n",
       "        vertical-align: top;\n",
       "    }\n",
       "\n",
       "    .dataframe thead th {\n",
       "        text-align: right;\n",
       "    }\n",
       "</style>\n",
       "<table border=\"1\" class=\"dataframe\">\n",
       "  <thead>\n",
       "    <tr style=\"text-align: right;\">\n",
       "      <th></th>\n",
       "      <th>period</th>\n",
       "      <th>commercial_price</th>\n",
       "      <th>industrial_price</th>\n",
       "      <th>residential_price</th>\n",
       "      <th>transportation_price</th>\n",
       "    </tr>\n",
       "  </thead>\n",
       "  <tbody>\n",
       "    <tr>\n",
       "      <th>0</th>\n",
       "      <td>2010</td>\n",
       "      <td>10.336557</td>\n",
       "      <td>7.752418</td>\n",
       "      <td>12.132664</td>\n",
       "      <td>5.653566</td>\n",
       "    </tr>\n",
       "    <tr>\n",
       "      <th>1</th>\n",
       "      <td>2011</td>\n",
       "      <td>10.603019</td>\n",
       "      <td>7.967801</td>\n",
       "      <td>12.419372</td>\n",
       "      <td>5.695410</td>\n",
       "    </tr>\n",
       "    <tr>\n",
       "      <th>2</th>\n",
       "      <td>2012</td>\n",
       "      <td>10.595410</td>\n",
       "      <td>7.904891</td>\n",
       "      <td>12.631257</td>\n",
       "      <td>5.473415</td>\n",
       "    </tr>\n",
       "    <tr>\n",
       "      <th>3</th>\n",
       "      <td>2013</td>\n",
       "      <td>10.835546</td>\n",
       "      <td>8.077555</td>\n",
       "      <td>12.890041</td>\n",
       "      <td>5.947773</td>\n",
       "    </tr>\n",
       "    <tr>\n",
       "      <th>4</th>\n",
       "      <td>2014</td>\n",
       "      <td>11.268730</td>\n",
       "      <td>8.342281</td>\n",
       "      <td>13.371776</td>\n",
       "      <td>5.604686</td>\n",
       "    </tr>\n",
       "    <tr>\n",
       "      <th>5</th>\n",
       "      <td>2015</td>\n",
       "      <td>11.112473</td>\n",
       "      <td>8.079440</td>\n",
       "      <td>13.464044</td>\n",
       "      <td>5.685929</td>\n",
       "    </tr>\n",
       "    <tr>\n",
       "      <th>6</th>\n",
       "      <td>2016</td>\n",
       "      <td>10.941885</td>\n",
       "      <td>7.897227</td>\n",
       "      <td>13.391776</td>\n",
       "      <td>5.620328</td>\n",
       "    </tr>\n",
       "    <tr>\n",
       "      <th>7</th>\n",
       "      <td>2017</td>\n",
       "      <td>11.221120</td>\n",
       "      <td>8.105396</td>\n",
       "      <td>13.758005</td>\n",
       "      <td>5.665697</td>\n",
       "    </tr>\n",
       "    <tr>\n",
       "      <th>8</th>\n",
       "      <td>2018</td>\n",
       "      <td>11.358702</td>\n",
       "      <td>8.288634</td>\n",
       "      <td>13.900410</td>\n",
       "      <td>5.646489</td>\n",
       "    </tr>\n",
       "    <tr>\n",
       "      <th>9</th>\n",
       "      <td>2019</td>\n",
       "      <td>11.413197</td>\n",
       "      <td>8.207172</td>\n",
       "      <td>14.048128</td>\n",
       "      <td>5.625027</td>\n",
       "    </tr>\n",
       "    <tr>\n",
       "      <th>10</th>\n",
       "      <td>2020</td>\n",
       "      <td>11.338497</td>\n",
       "      <td>8.005806</td>\n",
       "      <td>14.074850</td>\n",
       "      <td>5.843770</td>\n",
       "    </tr>\n",
       "    <tr>\n",
       "      <th>11</th>\n",
       "      <td>2021</td>\n",
       "      <td>11.816284</td>\n",
       "      <td>8.452992</td>\n",
       "      <td>14.548046</td>\n",
       "      <td>5.903689</td>\n",
       "    </tr>\n",
       "    <tr>\n",
       "      <th>12</th>\n",
       "      <td>2022</td>\n",
       "      <td>13.064358</td>\n",
       "      <td>9.811462</td>\n",
       "      <td>16.037145</td>\n",
       "      <td>6.670847</td>\n",
       "    </tr>\n",
       "    <tr>\n",
       "      <th>13</th>\n",
       "      <td>2023</td>\n",
       "      <td>13.475082</td>\n",
       "      <td>9.896619</td>\n",
       "      <td>17.091844</td>\n",
       "      <td>6.780061</td>\n",
       "    </tr>\n",
       "  </tbody>\n",
       "</table>\n",
       "</div>"
      ],
      "text/plain": [
       "    period  commercial_price  industrial_price  residential_price  \\\n",
       "0     2010         10.336557          7.752418          12.132664   \n",
       "1     2011         10.603019          7.967801          12.419372   \n",
       "2     2012         10.595410          7.904891          12.631257   \n",
       "3     2013         10.835546          8.077555          12.890041   \n",
       "4     2014         11.268730          8.342281          13.371776   \n",
       "5     2015         11.112473          8.079440          13.464044   \n",
       "6     2016         10.941885          7.897227          13.391776   \n",
       "7     2017         11.221120          8.105396          13.758005   \n",
       "8     2018         11.358702          8.288634          13.900410   \n",
       "9     2019         11.413197          8.207172          14.048128   \n",
       "10    2020         11.338497          8.005806          14.074850   \n",
       "11    2021         11.816284          8.452992          14.548046   \n",
       "12    2022         13.064358          9.811462          16.037145   \n",
       "13    2023         13.475082          9.896619          17.091844   \n",
       "\n",
       "    transportation_price  \n",
       "0               5.653566  \n",
       "1               5.695410  \n",
       "2               5.473415  \n",
       "3               5.947773  \n",
       "4               5.604686  \n",
       "5               5.685929  \n",
       "6               5.620328  \n",
       "7               5.665697  \n",
       "8               5.646489  \n",
       "9               5.625027  \n",
       "10              5.843770  \n",
       "11              5.903689  \n",
       "12              6.670847  \n",
       "13              6.780061  "
      ]
     },
     "execution_count": 22,
     "metadata": {},
     "output_type": "execute_result"
    }
   ],
   "source": [
    "melted_df"
   ]
  },
  {
   "cell_type": "code",
   "execution_count": 23,
   "metadata": {},
   "outputs": [
    {
     "data": {
      "image/png": "[encoded data removed]",
      "text/plain": [
       "<Figure size 720x432 with 1 Axes>"
      ]
     },
     "metadata": {
      "needs_background": "light"
     },
     "output_type": "display_data"
    }
   ],
   "source": [
    "\n",
    "# Plot multiline line chart\n",
    "plt.figure(figsize=(10, 6))\n",
    "for column in melted_df.columns[1:]:\n",
    "    plt.plot(melted_df['period'], melted_df[column], label=column)\n",
    "\n",
    "plt.title('Price Trends by Sector')\n",
    "plt.xlabel('Year')\n",
    "plt.ylabel('Price')\n",
    "plt.legend()\n",
    "\n",
    "plt.show()"
   ]
  },
  {
   "cell_type": "markdown",
   "metadata": {},
   "source": [
    "### HeatMaps"
   ]
  },
  {
   "cell_type": "markdown",
   "metadata": {},
   "source": [
    "#### Which states have the highest revenue generated from Electricity Supply 2013-2023 ?"
   ]
  },
  {
   "cell_type": "code",
   "execution_count": 24,
   "metadata": {},
   "outputs": [],
   "source": [
    "us_state_abbreviations = [\n",
    "    'AL', 'AK', 'AZ', 'AR', 'CA', 'CO', 'CT', 'DE', 'FL', 'GA', \n",
    "    'HI', 'ID', 'IL', 'IN', 'IA', 'KS', 'KY', 'LA', 'ME', 'MD', \n",
    "    'MA', 'MI', 'MN', 'MS', 'MO', 'MT', 'NE', 'NV', 'NH', 'NJ', \n",
    "    'NM', 'NY', 'NC', 'ND', 'OH', 'OK', 'OR', 'PA', 'RI', 'SC', \n",
    "    'SD', 'TN', 'TX', 'UT', 'VT', 'VA', 'WA', 'WV', 'WI', 'WY'\n",
    "]"
   ]
  },
  {
   "cell_type": "code",
   "execution_count": 25,
   "metadata": {},
   "outputs": [],
   "source": [
    "total_byStates = filtered_df.loc[(filtered_df['sectorName'] != 'all sectors') & (filtered_df['stateDescription'] != 'U.S. Total') & (filtered_df['stateid'].isin(us_state_abbreviations))].groupby(['stateid']).sum()"
   ]
  },
  {
   "cell_type": "code",
   "execution_count": 26,
   "metadata": {},
   "outputs": [
    {
     "data": {
      "application/vnd.plotly.v1+json": {
       "config": {
        "plotlyServerURL": "https://plot.ly"
       },
       "data": [
        {
         "colorbar": {
          "title": {
           "text": "Millions USD"
          }
         },
         "colorscale": [
          [
           0,
           "rgb(255,245,240)"
          ],
          [
           0.125,
           "rgb(254,224,210)"
          ],
          [
           0.25,
           "rgb(252,187,161)"
          ],
          [
           0.375,
           "rgb(252,146,114)"
          ],
          [
           0.5,
           "rgb(251,106,74)"
          ],
          [
           0.625,
           "rgb(239,59,44)"
          ],
          [
           0.75,
           "rgb(203,24,29)"
          ],
          [
           0.875,
           "rgb(165,15,21)"
          ],
          [
           1,
           "rgb(103,0,13)"
          ]
         ],
         "locationmode": "USA-states",
         "locations": [
          "AK",
          "AL",
          "AR",
          "AZ",
          "CA",
          "CO",
          "CT",
          "DE",
          "FL",
          "GA",
          "HI",
          "IA",
          "ID",
          "IL",
          "IN",
          "KS",
          "KY",
          "LA",
          "MA",
          "MD",
          "ME",
          "MI",
          "MN",
          "MO",
          "MS",
          "MT",
          "NC",
          "ND",
          "NE",
          "NH",
          "NJ",
          "NM",
          "NV",
          "NY",
          "OH",
          "OK",
          "OR",
          "PA",
          "RI",
          "SC",
          "SD",
          "TN",
          "TX",
          "UT",
          "VA",
          "VT",
          "WA",
          "WI",
          "WV",
          "WY"
         ],
         "type": "choropleth",
         "z": [
          14641.92,
          111146.27,
          51140.96,
          107234.92,
          552227.7,
          72961.45,
          67045.88,
          16403.16,
          328295.96,
          178006.11,
          37216.82,
          55360.48,
          24657.23,
          173730.91,
          126868.86,
          54081.19,
          85247.54,
          94647.89,
          118227.54,
          94468.9,
          20780.03,
          153371.3,
          88408.02,
          99099.64,
          59099.88,
          17019.7,
          161587.47,
          21581.6,
          35366.61,
          23513.72,
          134068.43,
          29424.02,
          44331.55,
          294329.57,
          189225.45,
          66840.81,
          56753.75,
          194703.83,
          16281.78,
          101266.81,
          15559.77,
          123935.24,
          473283.33,
          33289.81,
          142068.28,
          10785.73,
          92170.62,
          97186.31999999999,
          35990.99,
          17013.86
         ]
        }
       ],
       "layout": {
        "geo": {
         "scope": "usa"
        },
        "template": {
         "data": {
          "bar": [
           {
            "error_x": {
             "color": "#2a3f5f"
            },
            "error_y": {
             "color": "#2a3f5f"
            },
            "marker": {
             "line": {
              "color": "#E5ECF6",
              "width": 0.5
             },
             "pattern": {
              "fillmode": "overlay",
              "size": 10,
              "solidity": 0.2
             }
            },
            "type": "bar"
           }
          ],
          "barpolar": [
           {
            "marker": {
             "line": {
              "color": "#E5ECF6",
              "width": 0.5
             },
             "pattern": {
              "fillmode": "overlay",
              "size": 10,
              "solidity": 0.2
             }
            },
            "type": "barpolar"
           }
          ],
          "carpet": [
           {
            "aaxis": {
             "endlinecolor": "#2a3f5f",
             "gridcolor": "white",
             "linecolor": "white",
             "minorgridcolor": "white",
             "startlinecolor": "#2a3f5f"
            },
            "baxis": {
             "endlinecolor": "#2a3f5f",
             "gridcolor": "white",
             "linecolor": "white",
             "minorgridcolor": "white",
             "startlinecolor": "#2a3f5f"
            },
            "type": "carpet"
           }
          ],
          "choropleth": [
           {
            "colorbar": {
             "outlinewidth": 0,
             "ticks": ""
            },
            "type": "choropleth"
           }
          ],
          "contour": [
           {
            "colorbar": {
             "outlinewidth": 0,
             "ticks": ""
            },
            "colorscale": [
             [
              0,
              "#0d0887"
             ],
             [
              0.1111111111111111,
              "#46039f"
             ],
             [
              0.2222222222222222,
              "#7201a8"
             ],
             [
              0.3333333333333333,
              "#9c179e"
             ],
             [
              0.4444444444444444,
              "#bd3786"
             ],
             [
              0.5555555555555556,
              "#d8576b"
             ],
             [
              0.6666666666666666,
              "#ed7953"
             ],
             [
              0.7777777777777778,
              "#fb9f3a"
             ],
             [
              0.8888888888888888,
              "#fdca26"
             ],
             [
              1,
              "#f0f921"
             ]
            ],
            "type": "contour"
           }
          ],
          "contourcarpet": [
           {
            "colorbar": {
             "outlinewidth": 0,
             "ticks": ""
            },
            "type": "contourcarpet"
           }
          ],
          "heatmap": [
           {
            "colorbar": {
             "outlinewidth": 0,
             "ticks": ""
            },
            "colorscale": [
             [
              0,
              "#0d0887"
             ],
             [
              0.1111111111111111,
              "#46039f"
             ],
             [
              0.2222222222222222,
              "#7201a8"
             ],
             [
              0.3333333333333333,
              "#9c179e"
             ],
             [
              0.4444444444444444,
              "#bd3786"
             ],
             [
              0.5555555555555556,
              "#d8576b"
             ],
             [
              0.6666666666666666,
              "#ed7953"
             ],
             [
              0.7777777777777778,
              "#fb9f3a"
             ],
             [
              0.8888888888888888,
              "#fdca26"
             ],
             [
              1,
              "#f0f921"
             ]
            ],
            "type": "heatmap"
           }
          ],
          "heatmapgl": [
           {
            "colorbar": {
             "outlinewidth": 0,
             "ticks": ""
            },
            "colorscale": [
             [
              0,
              "#0d0887"
             ],
             [
              0.1111111111111111,
              "#46039f"
             ],
             [
              0.2222222222222222,
              "#7201a8"
             ],
             [
              0.3333333333333333,
              "#9c179e"
             ],
             [
              0.4444444444444444,
              "#bd3786"
             ],
             [
              0.5555555555555556,
              "#d8576b"
             ],
             [
              0.6666666666666666,
              "#ed7953"
             ],
             [
              0.7777777777777778,
              "#fb9f3a"
             ],
             [
              0.8888888888888888,
              "#fdca26"
             ],
             [
              1,
              "#f0f921"
             ]
            ],
            "type": "heatmapgl"
           }
          ],
          "histogram": [
           {
            "marker": {
             "pattern": {
              "fillmode": "overlay",
              "size": 10,
              "solidity": 0.2
             }
            },
            "type": "histogram"
           }
          ],
          "histogram2d": [
           {
            "colorbar": {
             "outlinewidth": 0,
             "ticks": ""
            },
            "colorscale": [
             [
              0,
              "#0d0887"
             ],
             [
              0.1111111111111111,
              "#46039f"
             ],
             [
              0.2222222222222222,
              "#7201a8"
             ],
             [
              0.3333333333333333,
              "#9c179e"
             ],
             [
              0.4444444444444444,
              "#bd3786"
             ],
             [
              0.5555555555555556,
              "#d8576b"
             ],
             [
              0.6666666666666666,
              "#ed7953"
             ],
             [
              0.7777777777777778,
              "#fb9f3a"
             ],
             [
              0.8888888888888888,
              "#fdca26"
             ],
             [
              1,
              "#f0f921"
             ]
            ],
            "type": "histogram2d"
           }
          ],
          "histogram2dcontour": [
           {
            "colorbar": {
             "outlinewidth": 0,
             "ticks": ""
            },
            "colorscale": [
             [
              0,
              "#0d0887"
             ],
             [
              0.1111111111111111,
              "#46039f"
             ],
             [
              0.2222222222222222,
              "#7201a8"
             ],
             [
              0.3333333333333333,
              "#9c179e"
             ],
             [
              0.4444444444444444,
              "#bd3786"
             ],
             [
              0.5555555555555556,
              "#d8576b"
             ],
             [
              0.6666666666666666,
              "#ed7953"
             ],
             [
              0.7777777777777778,
              "#fb9f3a"
             ],
             [
              0.8888888888888888,
              "#fdca26"
             ],
             [
              1,
              "#f0f921"
             ]
            ],
            "type": "histogram2dcontour"
           }
          ],
          "mesh3d": [
           {
            "colorbar": {
             "outlinewidth": 0,
             "ticks": ""
            },
            "type": "mesh3d"
           }
          ],
          "parcoords": [
           {
            "line": {
             "colorbar": {
              "outlinewidth": 0,
              "ticks": ""
             }
            },
            "type": "parcoords"
           }
          ],
          "pie": [
           {
            "automargin": true,
            "type": "pie"
           }
          ],
          "scatter": [
           {
            "fillpattern": {
             "fillmode": "overlay",
             "size": 10,
             "solidity": 0.2
            },
            "type": "scatter"
           }
          ],
          "scatter3d": [
           {
            "line": {
             "colorbar": {
              "outlinewidth": 0,
              "ticks": ""
             }
            },
            "marker": {
             "colorbar": {
              "outlinewidth": 0,
              "ticks": ""
             }
            },
            "type": "scatter3d"
           }
          ],
          "scattercarpet": [
           {
            "marker": {
             "colorbar": {
              "outlinewidth": 0,
              "ticks": ""
             }
            },
            "type": "scattercarpet"
           }
          ],
          "scattergeo": [
           {
            "marker": {
             "colorbar": {
              "outlinewidth": 0,
              "ticks": ""
             }
            },
            "type": "scattergeo"
           }
          ],
          "scattergl": [
           {
            "marker": {
             "colorbar": {
              "outlinewidth": 0,
              "ticks": ""
             }
            },
            "type": "scattergl"
           }
          ],
          "scattermapbox": [
           {
            "marker": {
             "colorbar": {
              "outlinewidth": 0,
              "ticks": ""
             }
            },
            "type": "scattermapbox"
           }
          ],
          "scatterpolar": [
           {
            "marker": {
             "colorbar": {
              "outlinewidth": 0,
              "ticks": ""
             }
            },
            "type": "scatterpolar"
           }
          ],
          "scatterpolargl": [
           {
            "marker": {
             "colorbar": {
              "outlinewidth": 0,
              "ticks": ""
             }
            },
            "type": "scatterpolargl"
           }
          ],
          "scatterternary": [
           {
            "marker": {
             "colorbar": {
              "outlinewidth": 0,
              "ticks": ""
             }
            },
            "type": "scatterternary"
           }
          ],
          "surface": [
           {
            "colorbar": {
             "outlinewidth": 0,
             "ticks": ""
            },
            "colorscale": [
             [
              0,
              "#0d0887"
             ],
             [
              0.1111111111111111,
              "#46039f"
             ],
             [
              0.2222222222222222,
              "#7201a8"
             ],
             [
              0.3333333333333333,
              "#9c179e"
             ],
             [
              0.4444444444444444,
              "#bd3786"
             ],
             [
              0.5555555555555556,
              "#d8576b"
             ],
             [
              0.6666666666666666,
              "#ed7953"
             ],
             [
              0.7777777777777778,
              "#fb9f3a"
             ],
             [
              0.8888888888888888,
              "#fdca26"
             ],
             [
              1,
              "#f0f921"
             ]
            ],
            "type": "surface"
           }
          ],
          "table": [
           {
            "cells": {
             "fill": {
              "color": "#EBF0F8"
             },
             "line": {
              "color": "white"
             }
            },
            "header": {
             "fill": {
              "color": "#C8D4E3"
             },
             "line": {
              "color": "white"
             }
            },
            "type": "table"
           }
          ]
         },
         "layout": {
          "annotationdefaults": {
           "arrowcolor": "#2a3f5f",
           "arrowhead": 0,
           "arrowwidth": 1
          },
          "autotypenumbers": "strict",
          "coloraxis": {
           "colorbar": {
            "outlinewidth": 0,
            "ticks": ""
           }
          },
          "colorscale": {
           "diverging": [
            [
             0,
             "#8e0152"
            ],
            [
             0.1,
             "#c51b7d"
            ],
            [
             0.2,
             "#de77ae"
            ],
            [
             0.3,
             "#f1b6da"
            ],
            [
             0.4,
             "#fde0ef"
            ],
            [
             0.5,
             "#f7f7f7"
            ],
            [
             0.6,
             "#e6f5d0"
            ],
            [
             0.7,
             "#b8e186"
            ],
            [
             0.8,
             "#7fbc41"
            ],
            [
             0.9,
             "#4d9221"
            ],
            [
             1,
             "#276419"
            ]
           ],
           "sequential": [
            [
             0,
             "#0d0887"
            ],
            [
             0.1111111111111111,
             "#46039f"
            ],
            [
             0.2222222222222222,
             "#7201a8"
            ],
            [
             0.3333333333333333,
             "#9c179e"
            ],
            [
             0.4444444444444444,
             "#bd3786"
            ],
            [
             0.5555555555555556,
             "#d8576b"
            ],
            [
             0.6666666666666666,
             "#ed7953"
            ],
            [
             0.7777777777777778,
             "#fb9f3a"
            ],
            [
             0.8888888888888888,
             "#fdca26"
            ],
            [
             1,
             "#f0f921"
            ]
           ],
           "sequentialminus": [
            [
             0,
             "#0d0887"
            ],
            [
             0.1111111111111111,
             "#46039f"
            ],
            [
             0.2222222222222222,
             "#7201a8"
            ],
            [
             0.3333333333333333,
             "#9c179e"
            ],
            [
             0.4444444444444444,
             "#bd3786"
            ],
            [
             0.5555555555555556,
             "#d8576b"
            ],
            [
             0.6666666666666666,
             "#ed7953"
            ],
            [
             0.7777777777777778,
             "#fb9f3a"
            ],
            [
             0.8888888888888888,
             "#fdca26"
            ],
            [
             1,
             "#f0f921"
            ]
           ]
          },
          "colorway": [
           "#636efa",
           "#EF553B",
           "#00cc96",
           "#ab63fa",
           "#FFA15A",
           "#19d3f3",
           "#FF6692",
           "#B6E880",
           "#FF97FF",
           "#FECB52"
          ],
          "font": {
           "color": "#2a3f5f"
          },
          "geo": {
           "bgcolor": "white",
           "lakecolor": "white",
           "landcolor": "#E5ECF6",
           "showlakes": true,
           "showland": true,
           "subunitcolor": "white"
          },
          "hoverlabel": {
           "align": "left"
          },
          "hovermode": "closest",
          "mapbox": {
           "style": "light"
          },
          "paper_bgcolor": "white",
          "plot_bgcolor": "#E5ECF6",
          "polar": {
           "angularaxis": {
            "gridcolor": "white",
            "linecolor": "white",
            "ticks": ""
           },
           "bgcolor": "#E5ECF6",
           "radialaxis": {
            "gridcolor": "white",
            "linecolor": "white",
            "ticks": ""
           }
          },
          "scene": {
           "xaxis": {
            "backgroundcolor": "#E5ECF6",
            "gridcolor": "white",
            "gridwidth": 2,
            "linecolor": "white",
            "showbackground": true,
            "ticks": "",
            "zerolinecolor": "white"
           },
           "yaxis": {
            "backgroundcolor": "#E5ECF6",
            "gridcolor": "white",
            "gridwidth": 2,
            "linecolor": "white",
            "showbackground": true,
            "ticks": "",
            "zerolinecolor": "white"
           },
           "zaxis": {
            "backgroundcolor": "#E5ECF6",
            "gridcolor": "white",
            "gridwidth": 2,
            "linecolor": "white",
            "showbackground": true,
            "ticks": "",
            "zerolinecolor": "white"
           }
          },
          "shapedefaults": {
           "line": {
            "color": "#2a3f5f"
           }
          },
          "ternary": {
           "aaxis": {
            "gridcolor": "white",
            "linecolor": "white",
            "ticks": ""
           },
           "baxis": {
            "gridcolor": "white",
            "linecolor": "white",
            "ticks": ""
           },
           "bgcolor": "#E5ECF6",
           "caxis": {
            "gridcolor": "white",
            "linecolor": "white",
            "ticks": ""
           }
          },
          "title": {
           "x": 0.05
          },
          "xaxis": {
           "automargin": true,
           "gridcolor": "white",
           "linecolor": "white",
           "ticks": "",
           "title": {
            "standoff": 15
           },
           "zerolinecolor": "white",
           "zerolinewidth": 2
          },
          "yaxis": {
           "automargin": true,
           "gridcolor": "white",
           "linecolor": "white",
           "ticks": "",
           "title": {
            "standoff": 15
           },
           "zerolinecolor": "white",
           "zerolinewidth": 2
          }
         }
        },
        "title": {
         "text": "Revenue generated from Electricity Supply 2013-2023"
        }
       }
      }
     },
     "metadata": {},
     "output_type": "display_data"
    }
   ],
   "source": [
    "import plotly.graph_objects as go\n",
    "\n",
    "fig = go.Figure(data=go.Choropleth(\n",
    "    locations=total_byStates.index, # Spatial coordinates\n",
    "    z = total_byStates['revenue'].astype(float), # Data to be color-coded\n",
    "    locationmode = 'USA-states', # set of locations match entries in `locations`\n",
    "    colorscale = 'Reds',\n",
    "    colorbar_title = \"Millions USD\",\n",
    "))\n",
    "\n",
    "fig.update_layout(\n",
    "    title_text = 'Revenue generated from Electricity Supply 2013-2023',\n",
    "    geo_scope='usa', # limite map scope to USA\n",
    ")\n",
    "\n",
    "fig.show()\n"
   ]
  },
  {
   "cell_type": "code",
   "execution_count": 27,
   "metadata": {},
   "outputs": [],
   "source": [
    "total_bySector_byStates = filtered_df.loc[(filtered_df['sectorName'] != 'all sectors') & (filtered_df['stateDescription'] != 'U.S. Total') & (filtered_df['stateid'].isin(us_state_abbreviations))].groupby(['stateid','sectorName']).sum()"
   ]
  },
  {
   "cell_type": "code",
   "execution_count": 28,
   "metadata": {},
   "outputs": [
    {
     "data": {
      "text/html": [
       "<div>\n",
       "<style scoped>\n",
       "    .dataframe tbody tr th:only-of-type {\n",
       "        vertical-align: middle;\n",
       "    }\n",
       "\n",
       "    .dataframe tbody tr th {\n",
       "        vertical-align: top;\n",
       "    }\n",
       "\n",
       "    .dataframe thead th {\n",
       "        text-align: right;\n",
       "    }\n",
       "</style>\n",
       "<table border=\"1\" class=\"dataframe\">\n",
       "  <thead>\n",
       "    <tr style=\"text-align: right;\">\n",
       "      <th></th>\n",
       "      <th></th>\n",
       "      <th>customers</th>\n",
       "      <th>price</th>\n",
       "      <th>revenue</th>\n",
       "      <th>sales</th>\n",
       "    </tr>\n",
       "    <tr>\n",
       "      <th>stateid</th>\n",
       "      <th>sectorName</th>\n",
       "      <th></th>\n",
       "      <th></th>\n",
       "      <th></th>\n",
       "      <th></th>\n",
       "    </tr>\n",
       "  </thead>\n",
       "  <tbody>\n",
       "    <tr>\n",
       "      <th rowspan=\"4\" valign=\"top\">AK</th>\n",
       "      <th>commercial</th>\n",
       "      <td>8303.86</td>\n",
       "      <td>2794.81</td>\n",
       "      <td>6260.80</td>\n",
       "      <td>35131.67</td>\n",
       "    </tr>\n",
       "    <tr>\n",
       "      <th>industrial</th>\n",
       "      <td>195.23</td>\n",
       "      <td>2551.41</td>\n",
       "      <td>2868.14</td>\n",
       "      <td>17542.45</td>\n",
       "    </tr>\n",
       "    <tr>\n",
       "      <th>residential</th>\n",
       "      <td>44725.22</td>\n",
       "      <td>3234.78</td>\n",
       "      <td>5512.98</td>\n",
       "      <td>26760.28</td>\n",
       "    </tr>\n",
       "    <tr>\n",
       "      <th>transportation</th>\n",
       "      <td>0.00</td>\n",
       "      <td>0.00</td>\n",
       "      <td>0.00</td>\n",
       "      <td>0.00</td>\n",
       "    </tr>\n",
       "    <tr>\n",
       "      <th>AL</th>\n",
       "      <th>commercial</th>\n",
       "      <td>57301.73</td>\n",
       "      <td>1768.38</td>\n",
       "      <td>33370.32</td>\n",
       "      <td>294185.23</td>\n",
       "    </tr>\n",
       "    <tr>\n",
       "      <th>...</th>\n",
       "      <th>...</th>\n",
       "      <td>...</td>\n",
       "      <td>...</td>\n",
       "      <td>...</td>\n",
       "      <td>...</td>\n",
       "    </tr>\n",
       "    <tr>\n",
       "      <th>WV</th>\n",
       "      <th>transportation</th>\n",
       "      <td>0.00</td>\n",
       "      <td>350.63</td>\n",
       "      <td>1.21</td>\n",
       "      <td>13.98</td>\n",
       "    </tr>\n",
       "    <tr>\n",
       "      <th rowspan=\"4\" valign=\"top\">WY</th>\n",
       "      <th>commercial</th>\n",
       "      <td>9101.41</td>\n",
       "      <td>1425.65</td>\n",
       "      <td>4515.72</td>\n",
       "      <td>49747.25</td>\n",
       "    </tr>\n",
       "    <tr>\n",
       "      <th>industrial</th>\n",
       "      <td>1663.25</td>\n",
       "      <td>1024.56</td>\n",
       "      <td>8567.67</td>\n",
       "      <td>130609.04</td>\n",
       "    </tr>\n",
       "    <tr>\n",
       "      <th>residential</th>\n",
       "      <td>42191.12</td>\n",
       "      <td>1688.28</td>\n",
       "      <td>3930.47</td>\n",
       "      <td>36617.96</td>\n",
       "    </tr>\n",
       "    <tr>\n",
       "      <th>transportation</th>\n",
       "      <td>0.00</td>\n",
       "      <td>0.00</td>\n",
       "      <td>0.00</td>\n",
       "      <td>0.00</td>\n",
       "    </tr>\n",
       "  </tbody>\n",
       "</table>\n",
       "<p>200 rows × 4 columns</p>\n",
       "</div>"
      ],
      "text/plain": [
       "                        customers    price   revenue      sales\n",
       "stateid sectorName                                             \n",
       "AK      commercial        8303.86  2794.81   6260.80   35131.67\n",
       "        industrial         195.23  2551.41   2868.14   17542.45\n",
       "        residential      44725.22  3234.78   5512.98   26760.28\n",
       "        transportation       0.00     0.00      0.00       0.00\n",
       "AL      commercial       57301.73  1768.38  33370.32  294185.23\n",
       "...                           ...      ...       ...        ...\n",
       "WV      transportation       0.00   350.63      1.21      13.98\n",
       "WY      commercial        9101.41  1425.65   4515.72   49747.25\n",
       "        industrial        1663.25  1024.56   8567.67  130609.04\n",
       "        residential      42191.12  1688.28   3930.47   36617.96\n",
       "        transportation       0.00     0.00      0.00       0.00\n",
       "\n",
       "[200 rows x 4 columns]"
      ]
     },
     "execution_count": 28,
     "metadata": {},
     "output_type": "execute_result"
    }
   ],
   "source": [
    "total_bySector_byStates"
   ]
  },
  {
   "cell_type": "code",
   "execution_count": 29,
   "metadata": {},
   "outputs": [],
   "source": [
    "# Melt the DataFrame to create separate columns for each sector's price\n",
    "sd = pd.pivot_table(total_bySector_byStates, index='stateid', columns='sectorName', values=['customers','price','revenue','sales'], aggfunc='first').reset_index()\n",
    "\n",
    "# Rename the columns in the desired format\n",
    "sd.columns = ['stateid'] + [f'{sector}_{variable}' for sector, variable in sd.columns[1:]]"
   ]
  },
  {
   "cell_type": "code",
   "execution_count": 30,
   "metadata": {},
   "outputs": [
    {
     "data": {
      "text/html": [
       "<div>\n",
       "<style scoped>\n",
       "    .dataframe tbody tr th:only-of-type {\n",
       "        vertical-align: middle;\n",
       "    }\n",
       "\n",
       "    .dataframe tbody tr th {\n",
       "        vertical-align: top;\n",
       "    }\n",
       "\n",
       "    .dataframe thead th {\n",
       "        text-align: right;\n",
       "    }\n",
       "</style>\n",
       "<table border=\"1\" class=\"dataframe\">\n",
       "  <thead>\n",
       "    <tr style=\"text-align: right;\">\n",
       "      <th></th>\n",
       "      <th>stateid</th>\n",
       "      <th>customers_commercial</th>\n",
       "      <th>customers_industrial</th>\n",
       "      <th>customers_residential</th>\n",
       "      <th>customers_transportation</th>\n",
       "      <th>price_commercial</th>\n",
       "      <th>price_industrial</th>\n",
       "      <th>price_residential</th>\n",
       "      <th>price_transportation</th>\n",
       "      <th>revenue_commercial</th>\n",
       "      <th>revenue_industrial</th>\n",
       "      <th>revenue_residential</th>\n",
       "      <th>revenue_transportation</th>\n",
       "      <th>sales_commercial</th>\n",
       "      <th>sales_industrial</th>\n",
       "      <th>sales_residential</th>\n",
       "      <th>sales_transportation</th>\n",
       "    </tr>\n",
       "  </thead>\n",
       "  <tbody>\n",
       "    <tr>\n",
       "      <th>0</th>\n",
       "      <td>AK</td>\n",
       "      <td>8303.86</td>\n",
       "      <td>195.23</td>\n",
       "      <td>44725.22</td>\n",
       "      <td>0.00</td>\n",
       "      <td>2794.81</td>\n",
       "      <td>2551.41</td>\n",
       "      <td>3234.78</td>\n",
       "      <td>0.00</td>\n",
       "      <td>6260.80</td>\n",
       "      <td>2868.14</td>\n",
       "      <td>5512.98</td>\n",
       "      <td>0.00</td>\n",
       "      <td>35131.67</td>\n",
       "      <td>17542.45</td>\n",
       "      <td>26760.28</td>\n",
       "      <td>0.00</td>\n",
       "    </tr>\n",
       "    <tr>\n",
       "      <th>1</th>\n",
       "      <td>AL</td>\n",
       "      <td>57301.73</td>\n",
       "      <td>1132.42</td>\n",
       "      <td>346885.06</td>\n",
       "      <td>0.00</td>\n",
       "      <td>1768.38</td>\n",
       "      <td>975.83</td>\n",
       "      <td>1913.33</td>\n",
       "      <td>0.00</td>\n",
       "      <td>33370.32</td>\n",
       "      <td>26801.68</td>\n",
       "      <td>50974.27</td>\n",
       "      <td>0.00</td>\n",
       "      <td>294185.23</td>\n",
       "      <td>428010.46</td>\n",
       "      <td>415923.39</td>\n",
       "      <td>0.00</td>\n",
       "    </tr>\n",
       "    <tr>\n",
       "      <th>2</th>\n",
       "      <td>AR</td>\n",
       "      <td>29962.61</td>\n",
       "      <td>5516.68</td>\n",
       "      <td>215367.22</td>\n",
       "      <td>0.00</td>\n",
       "      <td>1324.56</td>\n",
       "      <td>954.60</td>\n",
       "      <td>1582.65</td>\n",
       "      <td>1908.19</td>\n",
       "      <td>13165.08</td>\n",
       "      <td>13705.70</td>\n",
       "      <td>24270.05</td>\n",
       "      <td>0.13</td>\n",
       "      <td>154961.89</td>\n",
       "      <td>222965.55</td>\n",
       "      <td>239065.67</td>\n",
       "      <td>4.75</td>\n",
       "    </tr>\n",
       "    <tr>\n",
       "      <th>3</th>\n",
       "      <td>AZ</td>\n",
       "      <td>50014.29</td>\n",
       "      <td>1201.27</td>\n",
       "      <td>432328.91</td>\n",
       "      <td>0.00</td>\n",
       "      <td>1587.27</td>\n",
       "      <td>1028.23</td>\n",
       "      <td>1885.76</td>\n",
       "      <td>997.16</td>\n",
       "      <td>39852.20</td>\n",
       "      <td>11859.49</td>\n",
       "      <td>55515.66</td>\n",
       "      <td>7.57</td>\n",
       "      <td>388030.27</td>\n",
       "      <td>179208.23</td>\n",
       "      <td>453663.90</td>\n",
       "      <td>78.98</td>\n",
       "    </tr>\n",
       "    <tr>\n",
       "      <th>4</th>\n",
       "      <td>CA</td>\n",
       "      <td>270744.10</td>\n",
       "      <td>21173.18</td>\n",
       "      <td>2107816.89</td>\n",
       "      <td>1.58</td>\n",
       "      <td>2553.21</td>\n",
       "      <td>2010.18</td>\n",
       "      <td>2948.24</td>\n",
       "      <td>1489.61</td>\n",
       "      <td>247924.09</td>\n",
       "      <td>83072.29</td>\n",
       "      <td>220299.71</td>\n",
       "      <td>931.61</td>\n",
       "      <td>1509825.33</td>\n",
       "      <td>640943.71</td>\n",
       "      <td>1162567.98</td>\n",
       "      <td>9828.44</td>\n",
       "    </tr>\n",
       "  </tbody>\n",
       "</table>\n",
       "</div>"
      ],
      "text/plain": [
       "  stateid  customers_commercial  customers_industrial  customers_residential  \\\n",
       "0      AK               8303.86                195.23               44725.22   \n",
       "1      AL              57301.73               1132.42              346885.06   \n",
       "2      AR              29962.61               5516.68              215367.22   \n",
       "3      AZ              50014.29               1201.27              432328.91   \n",
       "4      CA             270744.10              21173.18             2107816.89   \n",
       "\n",
       "   customers_transportation  price_commercial  price_industrial  \\\n",
       "0                      0.00           2794.81           2551.41   \n",
       "1                      0.00           1768.38            975.83   \n",
       "2                      0.00           1324.56            954.60   \n",
       "3                      0.00           1587.27           1028.23   \n",
       "4                      1.58           2553.21           2010.18   \n",
       "\n",
       "   price_residential  price_transportation  revenue_commercial  \\\n",
       "0            3234.78                  0.00             6260.80   \n",
       "1            1913.33                  0.00            33370.32   \n",
       "2            1582.65               1908.19            13165.08   \n",
       "3            1885.76                997.16            39852.20   \n",
       "4            2948.24               1489.61           247924.09   \n",
       "\n",
       "   revenue_industrial  revenue_residential  revenue_transportation  \\\n",
       "0             2868.14              5512.98                    0.00   \n",
       "1            26801.68             50974.27                    0.00   \n",
       "2            13705.70             24270.05                    0.13   \n",
       "3            11859.49             55515.66                    7.57   \n",
       "4            83072.29            220299.71                  931.61   \n",
       "\n",
       "   sales_commercial  sales_industrial  sales_residential  sales_transportation  \n",
       "0          35131.67          17542.45           26760.28                  0.00  \n",
       "1         294185.23         428010.46          415923.39                  0.00  \n",
       "2         154961.89         222965.55          239065.67                  4.75  \n",
       "3         388030.27         179208.23          453663.90                 78.98  \n",
       "4        1509825.33         640943.71         1162567.98               9828.44  "
      ]
     },
     "execution_count": 30,
     "metadata": {},
     "output_type": "execute_result"
    }
   ],
   "source": [
    "sd.head()"
   ]
  },
  {
   "cell_type": "code",
   "execution_count": 57,
   "metadata": {},
   "outputs": [
    {
     "data": {
      "application/vnd.plotly.v1+json": {
       "config": {
        "plotlyServerURL": "https://plot.ly"
       },
       "data": [
        {
         "colorbar": {
          "title": {
           "text": "Millions USD"
          }
         },
         "colorscale": [
          [
           0,
           "rgb(255,245,240)"
          ],
          [
           0.125,
           "rgb(254,224,210)"
          ],
          [
           0.25,
           "rgb(252,187,161)"
          ],
          [
           0.375,
           "rgb(252,146,114)"
          ],
          [
           0.5,
           "rgb(251,106,74)"
          ],
          [
           0.625,
           "rgb(239,59,44)"
          ],
          [
           0.75,
           "rgb(203,24,29)"
          ],
          [
           0.875,
           "rgb(165,15,21)"
          ],
          [
           1,
           "rgb(103,0,13)"
          ]
         ],
         "locationmode": "USA-states",
         "locations": [
          "AK",
          "AL",
          "AR",
          "AZ",
          "CA",
          "CO",
          "CT",
          "DE",
          "FL",
          "GA",
          "HI",
          "IA",
          "ID",
          "IL",
          "IN",
          "KS",
          "KY",
          "LA",
          "MA",
          "MD",
          "ME",
          "MI",
          "MN",
          "MO",
          "MS",
          "MT",
          "NC",
          "ND",
          "NE",
          "NH",
          "NJ",
          "NM",
          "NV",
          "NY",
          "OH",
          "OK",
          "OR",
          "PA",
          "RI",
          "SC",
          "SD",
          "TN",
          "TX",
          "UT",
          "VA",
          "VT",
          "WA",
          "WI",
          "WV",
          "WY"
         ],
         "type": "choropleth",
         "z": [
          6260.8,
          33370.32,
          13165.08,
          39852.2,
          247924.09,
          27061.59,
          26167.38,
          5597.12,
          118927.04,
          62161.9,
          12458.68,
          14723.92,
          6322.45,
          59021.61,
          32247.27,
          20684.84,
          24579.98,
          28629.4,
          48659.22,
          41123.26,
          6759.82,
          55354.57,
          30101.25,
          35325.36,
          19050.48,
          6432.79,
          53833.36,
          7259.2,
          10572.53,
          8657.51,
          63067.6,
          11686.94,
          12208.01,
          150114.61,
          59392.65,
          21668.92,
          18682.7,
          50554.159999999996,
          7068.5,
          29268.14,
          5689.25,
          46516.62,
          152747.85,
          12518.6,
          56582.08,
          3900.1,
          32168.53,
          33216.46,
          8916.42,
          4515.72
         ]
        }
       ],
       "layout": {
        "geo": {
         "scope": "usa"
        },
        "template": {
         "data": {
          "bar": [
           {
            "error_x": {
             "color": "#2a3f5f"
            },
            "error_y": {
             "color": "#2a3f5f"
            },
            "marker": {
             "line": {
              "color": "#E5ECF6",
              "width": 0.5
             },
             "pattern": {
              "fillmode": "overlay",
              "size": 10,
              "solidity": 0.2
             }
            },
            "type": "bar"
           }
          ],
          "barpolar": [
           {
            "marker": {
             "line": {
              "color": "#E5ECF6",
              "width": 0.5
             },
             "pattern": {
              "fillmode": "overlay",
              "size": 10,
              "solidity": 0.2
             }
            },
            "type": "barpolar"
           }
          ],
          "carpet": [
           {
            "aaxis": {
             "endlinecolor": "#2a3f5f",
             "gridcolor": "white",
             "linecolor": "white",
             "minorgridcolor": "white",
             "startlinecolor": "#2a3f5f"
            },
            "baxis": {
             "endlinecolor": "#2a3f5f",
             "gridcolor": "white",
             "linecolor": "white",
             "minorgridcolor": "white",
             "startlinecolor": "#2a3f5f"
            },
            "type": "carpet"
           }
          ],
          "choropleth": [
           {
            "colorbar": {
             "outlinewidth": 0,
             "ticks": ""
            },
            "type": "choropleth"
           }
          ],
          "contour": [
           {
            "colorbar": {
             "outlinewidth": 0,
             "ticks": ""
            },
            "colorscale": [
             [
              0,
              "#0d0887"
             ],
             [
              0.1111111111111111,
              "#46039f"
             ],
             [
              0.2222222222222222,
              "#7201a8"
             ],
             [
              0.3333333333333333,
              "#9c179e"
             ],
             [
              0.4444444444444444,
              "#bd3786"
             ],
             [
              0.5555555555555556,
              "#d8576b"
             ],
             [
              0.6666666666666666,
              "#ed7953"
             ],
             [
              0.7777777777777778,
              "#fb9f3a"
             ],
             [
              0.8888888888888888,
              "#fdca26"
             ],
             [
              1,
              "#f0f921"
             ]
            ],
            "type": "contour"
           }
          ],
          "contourcarpet": [
           {
            "colorbar": {
             "outlinewidth": 0,
             "ticks": ""
            },
            "type": "contourcarpet"
           }
          ],
          "heatmap": [
           {
            "colorbar": {
             "outlinewidth": 0,
             "ticks": ""
            },
            "colorscale": [
             [
              0,
              "#0d0887"
             ],
             [
              0.1111111111111111,
              "#46039f"
             ],
             [
              0.2222222222222222,
              "#7201a8"
             ],
             [
              0.3333333333333333,
              "#9c179e"
             ],
             [
              0.4444444444444444,
              "#bd3786"
             ],
             [
              0.5555555555555556,
              "#d8576b"
             ],
             [
              0.6666666666666666,
              "#ed7953"
             ],
             [
              0.7777777777777778,
              "#fb9f3a"
             ],
             [
              0.8888888888888888,
              "#fdca26"
             ],
             [
              1,
              "#f0f921"
             ]
            ],
            "type": "heatmap"
           }
          ],
          "heatmapgl": [
           {
            "colorbar": {
             "outlinewidth": 0,
             "ticks": ""
            },
            "colorscale": [
             [
              0,
              "#0d0887"
             ],
             [
              0.1111111111111111,
              "#46039f"
             ],
             [
              0.2222222222222222,
              "#7201a8"
             ],
             [
              0.3333333333333333,
              "#9c179e"
             ],
             [
              0.4444444444444444,
              "#bd3786"
             ],
             [
              0.5555555555555556,
              "#d8576b"
             ],
             [
              0.6666666666666666,
              "#ed7953"
             ],
             [
              0.7777777777777778,
              "#fb9f3a"
             ],
             [
              0.8888888888888888,
              "#fdca26"
             ],
             [
              1,
              "#f0f921"
             ]
            ],
            "type": "heatmapgl"
           }
          ],
          "histogram": [
           {
            "marker": {
             "pattern": {
              "fillmode": "overlay",
              "size": 10,
              "solidity": 0.2
             }
            },
            "type": "histogram"
           }
          ],
          "histogram2d": [
           {
            "colorbar": {
             "outlinewidth": 0,
             "ticks": ""
            },
            "colorscale": [
             [
              0,
              "#0d0887"
             ],
             [
              0.1111111111111111,
              "#46039f"
             ],
             [
              0.2222222222222222,
              "#7201a8"
             ],
             [
              0.3333333333333333,
              "#9c179e"
             ],
             [
              0.4444444444444444,
              "#bd3786"
             ],
             [
              0.5555555555555556,
              "#d8576b"
             ],
             [
              0.6666666666666666,
              "#ed7953"
             ],
             [
              0.7777777777777778,
              "#fb9f3a"
             ],
             [
              0.8888888888888888,
              "#fdca26"
             ],
             [
              1,
              "#f0f921"
             ]
            ],
            "type": "histogram2d"
           }
          ],
          "histogram2dcontour": [
           {
            "colorbar": {
             "outlinewidth": 0,
             "ticks": ""
            },
            "colorscale": [
             [
              0,
              "#0d0887"
             ],
             [
              0.1111111111111111,
              "#46039f"
             ],
             [
              0.2222222222222222,
              "#7201a8"
             ],
             [
              0.3333333333333333,
              "#9c179e"
             ],
             [
              0.4444444444444444,
              "#bd3786"
             ],
             [
              0.5555555555555556,
              "#d8576b"
             ],
             [
              0.6666666666666666,
              "#ed7953"
             ],
             [
              0.7777777777777778,
              "#fb9f3a"
             ],
             [
              0.8888888888888888,
              "#fdca26"
             ],
             [
              1,
              "#f0f921"
             ]
            ],
            "type": "histogram2dcontour"
           }
          ],
          "mesh3d": [
           {
            "colorbar": {
             "outlinewidth": 0,
             "ticks": ""
            },
            "type": "mesh3d"
           }
          ],
          "parcoords": [
           {
            "line": {
             "colorbar": {
              "outlinewidth": 0,
              "ticks": ""
             }
            },
            "type": "parcoords"
           }
          ],
          "pie": [
           {
            "automargin": true,
            "type": "pie"
           }
          ],
          "scatter": [
           {
            "fillpattern": {
             "fillmode": "overlay",
             "size": 10,
             "solidity": 0.2
            },
            "type": "scatter"
           }
          ],
          "scatter3d": [
           {
            "line": {
             "colorbar": {
              "outlinewidth": 0,
              "ticks": ""
             }
            },
            "marker": {
             "colorbar": {
              "outlinewidth": 0,
              "ticks": ""
             }
            },
            "type": "scatter3d"
           }
          ],
          "scattercarpet": [
           {
            "marker": {
             "colorbar": {
              "outlinewidth": 0,
              "ticks": ""
             }
            },
            "type": "scattercarpet"
           }
          ],
          "scattergeo": [
           {
            "marker": {
             "colorbar": {
              "outlinewidth": 0,
              "ticks": ""
             }
            },
            "type": "scattergeo"
           }
          ],
          "scattergl": [
           {
            "marker": {
             "colorbar": {
              "outlinewidth": 0,
              "ticks": ""
             }
            },
            "type": "scattergl"
           }
          ],
          "scattermapbox": [
           {
            "marker": {
             "colorbar": {
              "outlinewidth": 0,
              "ticks": ""
             }
            },
            "type": "scattermapbox"
           }
          ],
          "scatterpolar": [
           {
            "marker": {
             "colorbar": {
              "outlinewidth": 0,
              "ticks": ""
             }
            },
            "type": "scatterpolar"
           }
          ],
          "scatterpolargl": [
           {
            "marker": {
             "colorbar": {
              "outlinewidth": 0,
              "ticks": ""
             }
            },
            "type": "scatterpolargl"
           }
          ],
          "scatterternary": [
           {
            "marker": {
             "colorbar": {
              "outlinewidth": 0,
              "ticks": ""
             }
            },
            "type": "scatterternary"
           }
          ],
          "surface": [
           {
            "colorbar": {
             "outlinewidth": 0,
             "ticks": ""
            },
            "colorscale": [
             [
              0,
              "#0d0887"
             ],
             [
              0.1111111111111111,
              "#46039f"
             ],
             [
              0.2222222222222222,
              "#7201a8"
             ],
             [
              0.3333333333333333,
              "#9c179e"
             ],
             [
              0.4444444444444444,
              "#bd3786"
             ],
             [
              0.5555555555555556,
              "#d8576b"
             ],
             [
              0.6666666666666666,
              "#ed7953"
             ],
             [
              0.7777777777777778,
              "#fb9f3a"
             ],
             [
              0.8888888888888888,
              "#fdca26"
             ],
             [
              1,
              "#f0f921"
             ]
            ],
            "type": "surface"
           }
          ],
          "table": [
           {
            "cells": {
             "fill": {
              "color": "#EBF0F8"
             },
             "line": {
              "color": "white"
             }
            },
            "header": {
             "fill": {
              "color": "#C8D4E3"
             },
             "line": {
              "color": "white"
             }
            },
            "type": "table"
           }
          ]
         },
         "layout": {
          "annotationdefaults": {
           "arrowcolor": "#2a3f5f",
           "arrowhead": 0,
           "arrowwidth": 1
          },
          "autotypenumbers": "strict",
          "coloraxis": {
           "colorbar": {
            "outlinewidth": 0,
            "ticks": ""
           }
          },
          "colorscale": {
           "diverging": [
            [
             0,
             "#8e0152"
            ],
            [
             0.1,
             "#c51b7d"
            ],
            [
             0.2,
             "#de77ae"
            ],
            [
             0.3,
             "#f1b6da"
            ],
            [
             0.4,
             "#fde0ef"
            ],
            [
             0.5,
             "#f7f7f7"
            ],
            [
             0.6,
             "#e6f5d0"
            ],
            [
             0.7,
             "#b8e186"
            ],
            [
             0.8,
             "#7fbc41"
            ],
            [
             0.9,
             "#4d9221"
            ],
            [
             1,
             "#276419"
            ]
           ],
           "sequential": [
            [
             0,
             "#0d0887"
            ],
            [
             0.1111111111111111,
             "#46039f"
            ],
            [
             0.2222222222222222,
             "#7201a8"
            ],
            [
             0.3333333333333333,
             "#9c179e"
            ],
            [
             0.4444444444444444,
             "#bd3786"
            ],
            [
             0.5555555555555556,
             "#d8576b"
            ],
            [
             0.6666666666666666,
             "#ed7953"
            ],
            [
             0.7777777777777778,
             "#fb9f3a"
            ],
            [
             0.8888888888888888,
             "#fdca26"
            ],
            [
             1,
             "#f0f921"
            ]
           ],
           "sequentialminus": [
            [
             0,
             "#0d0887"
            ],
            [
             0.1111111111111111,
             "#46039f"
            ],
            [
             0.2222222222222222,
             "#7201a8"
            ],
            [
             0.3333333333333333,
             "#9c179e"
            ],
            [
             0.4444444444444444,
             "#bd3786"
            ],
            [
             0.5555555555555556,
             "#d8576b"
            ],
            [
             0.6666666666666666,
             "#ed7953"
            ],
            [
             0.7777777777777778,
             "#fb9f3a"
            ],
            [
             0.8888888888888888,
             "#fdca26"
            ],
            [
             1,
             "#f0f921"
            ]
           ]
          },
          "colorway": [
           "#636efa",
           "#EF553B",
           "#00cc96",
           "#ab63fa",
           "#FFA15A",
           "#19d3f3",
           "#FF6692",
           "#B6E880",
           "#FF97FF",
           "#FECB52"
          ],
          "font": {
           "color": "#2a3f5f"
          },
          "geo": {
           "bgcolor": "white",
           "lakecolor": "white",
           "landcolor": "#E5ECF6",
           "showlakes": true,
           "showland": true,
           "subunitcolor": "white"
          },
          "hoverlabel": {
           "align": "left"
          },
          "hovermode": "closest",
          "mapbox": {
           "style": "light"
          },
          "paper_bgcolor": "white",
          "plot_bgcolor": "#E5ECF6",
          "polar": {
           "angularaxis": {
            "gridcolor": "white",
            "linecolor": "white",
            "ticks": ""
           },
           "bgcolor": "#E5ECF6",
           "radialaxis": {
            "gridcolor": "white",
            "linecolor": "white",
            "ticks": ""
           }
          },
          "scene": {
           "xaxis": {
            "backgroundcolor": "#E5ECF6",
            "gridcolor": "white",
            "gridwidth": 2,
            "linecolor": "white",
            "showbackground": true,
            "ticks": "",
            "zerolinecolor": "white"
           },
           "yaxis": {
            "backgroundcolor": "#E5ECF6",
            "gridcolor": "white",
            "gridwidth": 2,
            "linecolor": "white",
            "showbackground": true,
            "ticks": "",
            "zerolinecolor": "white"
           },
           "zaxis": {
            "backgroundcolor": "#E5ECF6",
            "gridcolor": "white",
            "gridwidth": 2,
            "linecolor": "white",
            "showbackground": true,
            "ticks": "",
            "zerolinecolor": "white"
           }
          },
          "shapedefaults": {
           "line": {
            "color": "#2a3f5f"
           }
          },
          "ternary": {
           "aaxis": {
            "gridcolor": "white",
            "linecolor": "white",
            "ticks": ""
           },
           "baxis": {
            "gridcolor": "white",
            "linecolor": "white",
            "ticks": ""
           },
           "bgcolor": "#E5ECF6",
           "caxis": {
            "gridcolor": "white",
            "linecolor": "white",
            "ticks": ""
           }
          },
          "title": {
           "x": 0.05
          },
          "xaxis": {
           "automargin": true,
           "gridcolor": "white",
           "linecolor": "white",
           "ticks": "",
           "title": {
            "standoff": 15
           },
           "zerolinecolor": "white",
           "zerolinewidth": 2
          },
          "yaxis": {
           "automargin": true,
           "gridcolor": "white",
           "linecolor": "white",
           "ticks": "",
           "title": {
            "standoff": 15
           },
           "zerolinecolor": "white",
           "zerolinewidth": 2
          }
         }
        },
        "title": {
         "text": "Commercial Revenue generated from Electricity Supply 2013-2023"
        }
       }
      }
     },
     "metadata": {},
     "output_type": "display_data"
    }
   ],
   "source": [
    "import plotly.graph_objects as go\n",
    "\n",
    "fig = go.Figure(data=go.Choropleth(\n",
    "    locations=sd['stateid'], # Spatial coordinates\n",
    "    z = sd['revenue_commercial'].astype(float), # Data to be color-coded\n",
    "    locationmode = 'USA-states', # set of locations match entries in `locations`\n",
    "    colorscale = 'Reds',\n",
    "    colorbar_title = \"Millions USD\",\n",
    "))\n",
    "\n",
    "fig.update_layout(\n",
    "    title_text = 'Commercial Revenue generated from Electricity Supply 2013-2023',\n",
    "    geo_scope='usa', # limite map scope to USA\n",
    ")\n",
    "\n",
    "fig.show()\n"
   ]
  },
  {
   "cell_type": "code",
   "execution_count": 32,
   "metadata": {},
   "outputs": [
    {
     "data": {
      "application/vnd.plotly.v1+json": {
       "config": {
        "plotlyServerURL": "https://plot.ly"
       },
       "data": [
        {
         "colorbar": {
          "title": {
           "text": "Millions USD"
          }
         },
         "colorscale": [
          [
           0,
           "rgb(255,245,240)"
          ],
          [
           0.125,
           "rgb(254,224,210)"
          ],
          [
           0.25,
           "rgb(252,187,161)"
          ],
          [
           0.375,
           "rgb(252,146,114)"
          ],
          [
           0.5,
           "rgb(251,106,74)"
          ],
          [
           0.625,
           "rgb(239,59,44)"
          ],
          [
           0.75,
           "rgb(203,24,29)"
          ],
          [
           0.875,
           "rgb(165,15,21)"
          ],
          [
           1,
           "rgb(103,0,13)"
          ]
         ],
         "geo": "geo",
         "hovertemplate": "State: %{location}<br>Revenue: %{z:.2f}<extra></extra>",
         "locationmode": "USA-states",
         "locations": [
          "AK",
          "AL",
          "AR",
          "AZ",
          "CA",
          "CO",
          "CT",
          "DE",
          "FL",
          "GA",
          "HI",
          "IA",
          "ID",
          "IL",
          "IN",
          "KS",
          "KY",
          "LA",
          "MA",
          "MD",
          "ME",
          "MI",
          "MN",
          "MO",
          "MS",
          "MT",
          "NC",
          "ND",
          "NE",
          "NH",
          "NJ",
          "NM",
          "NV",
          "NY",
          "OH",
          "OK",
          "OR",
          "PA",
          "RI",
          "SC",
          "SD",
          "TN",
          "TX",
          "UT",
          "VA",
          "VT",
          "WA",
          "WI",
          "WV",
          "WY"
         ],
         "type": "choropleth",
         "z": [
          6260.8,
          33370.32,
          13165.08,
          39852.2,
          247924.09,
          27061.59,
          26167.38,
          5597.12,
          118927.04,
          62161.9,
          12458.68,
          14723.92,
          6322.45,
          59021.61,
          32247.27,
          20684.84,
          24579.98,
          28629.4,
          48659.22,
          41123.26,
          6759.82,
          55354.57,
          30101.25,
          35325.36,
          19050.48,
          6432.79,
          53833.36,
          7259.2,
          10572.53,
          8657.51,
          63067.6,
          11686.94,
          12208.01,
          150114.61,
          59392.65,
          21668.92,
          18682.7,
          50554.159999999996,
          7068.5,
          29268.14,
          5689.25,
          46516.62,
          152747.85,
          12518.6,
          56582.08,
          3900.1,
          32168.53,
          33216.46,
          8916.42,
          4515.72
         ]
        },
        {
         "colorbar": {
          "title": {
           "text": "Millions USD"
          }
         },
         "colorscale": [
          [
           0,
           "rgb(255,245,240)"
          ],
          [
           0.125,
           "rgb(254,224,210)"
          ],
          [
           0.25,
           "rgb(252,187,161)"
          ],
          [
           0.375,
           "rgb(252,146,114)"
          ],
          [
           0.5,
           "rgb(251,106,74)"
          ],
          [
           0.625,
           "rgb(239,59,44)"
          ],
          [
           0.75,
           "rgb(203,24,29)"
          ],
          [
           0.875,
           "rgb(165,15,21)"
          ],
          [
           1,
           "rgb(103,0,13)"
          ]
         ],
         "geo": "geo2",
         "hovertemplate": "State: %{location}<br>Revenue: %{z:.2f}<extra></extra>",
         "locationmode": "USA-states",
         "locations": [
          "AK",
          "AL",
          "AR",
          "AZ",
          "CA",
          "CO",
          "CT",
          "DE",
          "FL",
          "GA",
          "HI",
          "IA",
          "ID",
          "IL",
          "IN",
          "KS",
          "KY",
          "LA",
          "MA",
          "MD",
          "ME",
          "MI",
          "MN",
          "MO",
          "MS",
          "MT",
          "NC",
          "ND",
          "NE",
          "NH",
          "NJ",
          "NM",
          "NV",
          "NY",
          "OH",
          "OK",
          "OR",
          "PA",
          "RI",
          "SC",
          "SD",
          "TN",
          "TX",
          "UT",
          "VA",
          "VT",
          "WA",
          "WI",
          "WV",
          "WY"
         ],
         "type": "choropleth",
         "z": [
          2868.14,
          26801.68,
          13705.7,
          11859.49,
          83072.29,
          15021.31,
          5493.68,
          2465.06,
          17565.43,
          26742.63,
          12733.44,
          18280.33,
          7357.82,
          38104.75,
          42212.02,
          11009.63,
          24095.19,
          26146.28,
          16983.18,
          4330.69,
          3465.86,
          29033.78,
          21153.95,
          13014.35,
          13036.47,
          3294.16,
          22409.84,
          7938.43,
          10917.95,
          3275.12,
          10132.15,
          6574.54,
          11351.74,
          13964.03,
          44170.42,
          13453.87,
          11010.17,
          44936.15,
          1401.67,
          22059.57,
          2802.68,
          19075.63,
          90490.09,
          7394.44,
          15662.72,
          1944.36,
          15438.78,
          23191.54,
          10972.58,
          8567.67
         ]
        },
        {
         "colorbar": {
          "title": {
           "text": "Millions USD"
          }
         },
         "colorscale": [
          [
           0,
           "rgb(255,245,240)"
          ],
          [
           0.125,
           "rgb(254,224,210)"
          ],
          [
           0.25,
           "rgb(252,187,161)"
          ],
          [
           0.375,
           "rgb(252,146,114)"
          ],
          [
           0.5,
           "rgb(251,106,74)"
          ],
          [
           0.625,
           "rgb(239,59,44)"
          ],
          [
           0.75,
           "rgb(203,24,29)"
          ],
          [
           0.875,
           "rgb(165,15,21)"
          ],
          [
           1,
           "rgb(103,0,13)"
          ]
         ],
         "geo": "geo3",
         "hovertemplate": "State: %{location}<br>Revenue: %{z:.2f}<extra></extra>",
         "locationmode": "USA-states",
         "locations": [
          "AK",
          "AL",
          "AR",
          "AZ",
          "CA",
          "CO",
          "CT",
          "DE",
          "FL",
          "GA",
          "HI",
          "IA",
          "ID",
          "IL",
          "IN",
          "KS",
          "KY",
          "LA",
          "MA",
          "MD",
          "ME",
          "MI",
          "MN",
          "MO",
          "MS",
          "MT",
          "NC",
          "ND",
          "NE",
          "NH",
          "NJ",
          "NM",
          "NV",
          "NY",
          "OH",
          "OK",
          "OR",
          "PA",
          "RI",
          "SC",
          "SD",
          "TN",
          "TX",
          "UT",
          "VA",
          "VT",
          "WA",
          "WI",
          "WV",
          "WY"
         ],
         "type": "choropleth",
         "z": [
          5512.98,
          50974.27,
          24270.05,
          55515.66,
          220299.71,
          30783.7,
          35096.55,
          8340.98,
          191706.88,
          88964.84,
          12024.7,
          22356.23,
          10976.96,
          76161.68,
          52383.65,
          22386.72,
          36572.37,
          39858.25,
          52272.21,
          48466.62,
          10554.35,
          68975.87,
          37124.73,
          50736.75,
          27012.93,
          7292.75,
          85333.52,
          6383.97,
          13876.13,
          11581.09,
          60491.159999999996,
          11162.54,
          20763.11,
          125538.17,
          85627.13,
          31718.02,
          27031.81,
          98506.25,
          7758.5,
          49939.1,
          7067.84,
          58342.23,
          229903.62,
          13308.07,
          69619.25,
          4941.2699999999995,
          44511.01,
          40777.53,
          16100.78,
          3930.47
         ]
        },
        {
         "colorbar": {
          "title": {
           "text": "Millions USD"
          }
         },
         "colorscale": [
          [
           0,
           "rgb(255,245,240)"
          ],
          [
           0.125,
           "rgb(254,224,210)"
          ],
          [
           0.25,
           "rgb(252,187,161)"
          ],
          [
           0.375,
           "rgb(252,146,114)"
          ],
          [
           0.5,
           "rgb(251,106,74)"
          ],
          [
           0.625,
           "rgb(239,59,44)"
          ],
          [
           0.75,
           "rgb(203,24,29)"
          ],
          [
           0.875,
           "rgb(165,15,21)"
          ],
          [
           1,
           "rgb(103,0,13)"
          ]
         ],
         "geo": "geo4",
         "hovertemplate": "State: %{location}<br>Revenue: %{z:.2f}<extra></extra>",
         "locationmode": "USA-states",
         "locations": [
          "AK",
          "AL",
          "AR",
          "AZ",
          "CA",
          "CO",
          "CT",
          "DE",
          "FL",
          "GA",
          "HI",
          "IA",
          "ID",
          "IL",
          "IN",
          "KS",
          "KY",
          "LA",
          "MA",
          "MD",
          "ME",
          "MI",
          "MN",
          "MO",
          "MS",
          "MT",
          "NC",
          "ND",
          "NE",
          "NH",
          "NJ",
          "NM",
          "NV",
          "NY",
          "OH",
          "OK",
          "OR",
          "PA",
          "RI",
          "SC",
          "SD",
          "TN",
          "TX",
          "UT",
          "VA",
          "VT",
          "WA",
          "WI",
          "WV",
          "WY"
         ],
         "type": "choropleth",
         "z": [
          0,
          0,
          0.13,
          7.57,
          931.61,
          94.85,
          288.27,
          0,
          96.61,
          136.74,
          0,
          0,
          0,
          442.87,
          25.92,
          0,
          0,
          13.96,
          312.93,
          548.33,
          0,
          7.08,
          28.09,
          23.18,
          0,
          0,
          10.75,
          0,
          0,
          0,
          377.52,
          0,
          8.69,
          4712.76,
          35.25,
          0,
          29.07,
          707.27,
          53.11,
          0,
          0,
          0.76,
          141.77,
          68.7,
          204.23,
          0,
          52.3,
          0.79,
          1.21,
          0
         ]
        }
       ],
       "layout": {
        "annotations": [
         {
          "font": {
           "size": 16
          },
          "showarrow": false,
          "text": "Commercial",
          "x": 0.225,
          "xanchor": "center",
          "xref": "paper",
          "y": 1,
          "yanchor": "bottom",
          "yref": "paper"
         },
         {
          "font": {
           "size": 16
          },
          "showarrow": false,
          "text": "Industrial",
          "x": 0.775,
          "xanchor": "center",
          "xref": "paper",
          "y": 1,
          "yanchor": "bottom",
          "yref": "paper"
         },
         {
          "font": {
           "size": 16
          },
          "showarrow": false,
          "text": "Residential",
          "x": 0.225,
          "xanchor": "center",
          "xref": "paper",
          "y": 0.375,
          "yanchor": "bottom",
          "yref": "paper"
         },
         {
          "font": {
           "size": 16
          },
          "showarrow": false,
          "text": "Transportation",
          "x": 0.775,
          "xanchor": "center",
          "xref": "paper",
          "y": 0.375,
          "yanchor": "bottom",
          "yref": "paper"
         }
        ],
        "geo": {
         "domain": {
          "x": [
           0,
           0.45
          ],
          "y": [
           0.625,
           1
          ]
         },
         "scope": "usa"
        },
        "geo2": {
         "domain": {
          "x": [
           0.55,
           1
          ],
          "y": [
           0.625,
           1
          ]
         },
         "scope": "usa"
        },
        "geo3": {
         "domain": {
          "x": [
           0,
           0.45
          ],
          "y": [
           0,
           0.375
          ]
         },
         "scope": "usa"
        },
        "geo4": {
         "domain": {
          "x": [
           0.55,
           1
          ],
          "y": [
           0,
           0.375
          ]
         },
         "scope": "usa"
        },
        "template": {
         "data": {
          "bar": [
           {
            "error_x": {
             "color": "#2a3f5f"
            },
            "error_y": {
             "color": "#2a3f5f"
            },
            "marker": {
             "line": {
              "color": "#E5ECF6",
              "width": 0.5
             },
             "pattern": {
              "fillmode": "overlay",
              "size": 10,
              "solidity": 0.2
             }
            },
            "type": "bar"
           }
          ],
          "barpolar": [
           {
            "marker": {
             "line": {
              "color": "#E5ECF6",
              "width": 0.5
             },
             "pattern": {
              "fillmode": "overlay",
              "size": 10,
              "solidity": 0.2
             }
            },
            "type": "barpolar"
           }
          ],
          "carpet": [
           {
            "aaxis": {
             "endlinecolor": "#2a3f5f",
             "gridcolor": "white",
             "linecolor": "white",
             "minorgridcolor": "white",
             "startlinecolor": "#2a3f5f"
            },
            "baxis": {
             "endlinecolor": "#2a3f5f",
             "gridcolor": "white",
             "linecolor": "white",
             "minorgridcolor": "white",
             "startlinecolor": "#2a3f5f"
            },
            "type": "carpet"
           }
          ],
          "choropleth": [
           {
            "colorbar": {
             "outlinewidth": 0,
             "ticks": ""
            },
            "type": "choropleth"
           }
          ],
          "contour": [
           {
            "colorbar": {
             "outlinewidth": 0,
             "ticks": ""
            },
            "colorscale": [
             [
              0,
              "#0d0887"
             ],
             [
              0.1111111111111111,
              "#46039f"
             ],
             [
              0.2222222222222222,
              "#7201a8"
             ],
             [
              0.3333333333333333,
              "#9c179e"
             ],
             [
              0.4444444444444444,
              "#bd3786"
             ],
             [
              0.5555555555555556,
              "#d8576b"
             ],
             [
              0.6666666666666666,
              "#ed7953"
             ],
             [
              0.7777777777777778,
              "#fb9f3a"
             ],
             [
              0.8888888888888888,
              "#fdca26"
             ],
             [
              1,
              "#f0f921"
             ]
            ],
            "type": "contour"
           }
          ],
          "contourcarpet": [
           {
            "colorbar": {
             "outlinewidth": 0,
             "ticks": ""
            },
            "type": "contourcarpet"
           }
          ],
          "heatmap": [
           {
            "colorbar": {
             "outlinewidth": 0,
             "ticks": ""
            },
            "colorscale": [
             [
              0,
              "#0d0887"
             ],
             [
              0.1111111111111111,
              "#46039f"
             ],
             [
              0.2222222222222222,
              "#7201a8"
             ],
             [
              0.3333333333333333,
              "#9c179e"
             ],
             [
              0.4444444444444444,
              "#bd3786"
             ],
             [
              0.5555555555555556,
              "#d8576b"
             ],
             [
              0.6666666666666666,
              "#ed7953"
             ],
             [
              0.7777777777777778,
              "#fb9f3a"
             ],
             [
              0.8888888888888888,
              "#fdca26"
             ],
             [
              1,
              "#f0f921"
             ]
            ],
            "type": "heatmap"
           }
          ],
          "heatmapgl": [
           {
            "colorbar": {
             "outlinewidth": 0,
             "ticks": ""
            },
            "colorscale": [
             [
              0,
              "#0d0887"
             ],
             [
              0.1111111111111111,
              "#46039f"
             ],
             [
              0.2222222222222222,
              "#7201a8"
             ],
             [
              0.3333333333333333,
              "#9c179e"
             ],
             [
              0.4444444444444444,
              "#bd3786"
             ],
             [
              0.5555555555555556,
              "#d8576b"
             ],
             [
              0.6666666666666666,
              "#ed7953"
             ],
             [
              0.7777777777777778,
              "#fb9f3a"
             ],
             [
              0.8888888888888888,
              "#fdca26"
             ],
             [
              1,
              "#f0f921"
             ]
            ],
            "type": "heatmapgl"
           }
          ],
          "histogram": [
           {
            "marker": {
             "pattern": {
              "fillmode": "overlay",
              "size": 10,
              "solidity": 0.2
             }
            },
            "type": "histogram"
           }
          ],
          "histogram2d": [
           {
            "colorbar": {
             "outlinewidth": 0,
             "ticks": ""
            },
            "colorscale": [
             [
              0,
              "#0d0887"
             ],
             [
              0.1111111111111111,
              "#46039f"
             ],
             [
              0.2222222222222222,
              "#7201a8"
             ],
             [
              0.3333333333333333,
              "#9c179e"
             ],
             [
              0.4444444444444444,
              "#bd3786"
             ],
             [
              0.5555555555555556,
              "#d8576b"
             ],
             [
              0.6666666666666666,
              "#ed7953"
             ],
             [
              0.7777777777777778,
              "#fb9f3a"
             ],
             [
              0.8888888888888888,
              "#fdca26"
             ],
             [
              1,
              "#f0f921"
             ]
            ],
            "type": "histogram2d"
           }
          ],
          "histogram2dcontour": [
           {
            "colorbar": {
             "outlinewidth": 0,
             "ticks": ""
            },
            "colorscale": [
             [
              0,
              "#0d0887"
             ],
             [
              0.1111111111111111,
              "#46039f"
             ],
             [
              0.2222222222222222,
              "#7201a8"
             ],
             [
              0.3333333333333333,
              "#9c179e"
             ],
             [
              0.4444444444444444,
              "#bd3786"
             ],
             [
              0.5555555555555556,
              "#d8576b"
             ],
             [
              0.6666666666666666,
              "#ed7953"
             ],
             [
              0.7777777777777778,
              "#fb9f3a"
             ],
             [
              0.8888888888888888,
              "#fdca26"
             ],
             [
              1,
              "#f0f921"
             ]
            ],
            "type": "histogram2dcontour"
           }
          ],
          "mesh3d": [
           {
            "colorbar": {
             "outlinewidth": 0,
             "ticks": ""
            },
            "type": "mesh3d"
           }
          ],
          "parcoords": [
           {
            "line": {
             "colorbar": {
              "outlinewidth": 0,
              "ticks": ""
             }
            },
            "type": "parcoords"
           }
          ],
          "pie": [
           {
            "automargin": true,
            "type": "pie"
           }
          ],
          "scatter": [
           {
            "fillpattern": {
             "fillmode": "overlay",
             "size": 10,
             "solidity": 0.2
            },
            "type": "scatter"
           }
          ],
          "scatter3d": [
           {
            "line": {
             "colorbar": {
              "outlinewidth": 0,
              "ticks": ""
             }
            },
            "marker": {
             "colorbar": {
              "outlinewidth": 0,
              "ticks": ""
             }
            },
            "type": "scatter3d"
           }
          ],
          "scattercarpet": [
           {
            "marker": {
             "colorbar": {
              "outlinewidth": 0,
              "ticks": ""
             }
            },
            "type": "scattercarpet"
           }
          ],
          "scattergeo": [
           {
            "marker": {
             "colorbar": {
              "outlinewidth": 0,
              "ticks": ""
             }
            },
            "type": "scattergeo"
           }
          ],
          "scattergl": [
           {
            "marker": {
             "colorbar": {
              "outlinewidth": 0,
              "ticks": ""
             }
            },
            "type": "scattergl"
           }
          ],
          "scattermapbox": [
           {
            "marker": {
             "colorbar": {
              "outlinewidth": 0,
              "ticks": ""
             }
            },
            "type": "scattermapbox"
           }
          ],
          "scatterpolar": [
           {
            "marker": {
             "colorbar": {
              "outlinewidth": 0,
              "ticks": ""
             }
            },
            "type": "scatterpolar"
           }
          ],
          "scatterpolargl": [
           {
            "marker": {
             "colorbar": {
              "outlinewidth": 0,
              "ticks": ""
             }
            },
            "type": "scatterpolargl"
           }
          ],
          "scatterternary": [
           {
            "marker": {
             "colorbar": {
              "outlinewidth": 0,
              "ticks": ""
             }
            },
            "type": "scatterternary"
           }
          ],
          "surface": [
           {
            "colorbar": {
             "outlinewidth": 0,
             "ticks": ""
            },
            "colorscale": [
             [
              0,
              "#0d0887"
             ],
             [
              0.1111111111111111,
              "#46039f"
             ],
             [
              0.2222222222222222,
              "#7201a8"
             ],
             [
              0.3333333333333333,
              "#9c179e"
             ],
             [
              0.4444444444444444,
              "#bd3786"
             ],
             [
              0.5555555555555556,
              "#d8576b"
             ],
             [
              0.6666666666666666,
              "#ed7953"
             ],
             [
              0.7777777777777778,
              "#fb9f3a"
             ],
             [
              0.8888888888888888,
              "#fdca26"
             ],
             [
              1,
              "#f0f921"
             ]
            ],
            "type": "surface"
           }
          ],
          "table": [
           {
            "cells": {
             "fill": {
              "color": "#EBF0F8"
             },
             "line": {
              "color": "white"
             }
            },
            "header": {
             "fill": {
              "color": "#C8D4E3"
             },
             "line": {
              "color": "white"
             }
            },
            "type": "table"
           }
          ]
         },
         "layout": {
          "annotationdefaults": {
           "arrowcolor": "#2a3f5f",
           "arrowhead": 0,
           "arrowwidth": 1
          },
          "autotypenumbers": "strict",
          "coloraxis": {
           "colorbar": {
            "outlinewidth": 0,
            "ticks": ""
           }
          },
          "colorscale": {
           "diverging": [
            [
             0,
             "#8e0152"
            ],
            [
             0.1,
             "#c51b7d"
            ],
            [
             0.2,
             "#de77ae"
            ],
            [
             0.3,
             "#f1b6da"
            ],
            [
             0.4,
             "#fde0ef"
            ],
            [
             0.5,
             "#f7f7f7"
            ],
            [
             0.6,
             "#e6f5d0"
            ],
            [
             0.7,
             "#b8e186"
            ],
            [
             0.8,
             "#7fbc41"
            ],
            [
             0.9,
             "#4d9221"
            ],
            [
             1,
             "#276419"
            ]
           ],
           "sequential": [
            [
             0,
             "#0d0887"
            ],
            [
             0.1111111111111111,
             "#46039f"
            ],
            [
             0.2222222222222222,
             "#7201a8"
            ],
            [
             0.3333333333333333,
             "#9c179e"
            ],
            [
             0.4444444444444444,
             "#bd3786"
            ],
            [
             0.5555555555555556,
             "#d8576b"
            ],
            [
             0.6666666666666666,
             "#ed7953"
            ],
            [
             0.7777777777777778,
             "#fb9f3a"
            ],
            [
             0.8888888888888888,
             "#fdca26"
            ],
            [
             1,
             "#f0f921"
            ]
           ],
           "sequentialminus": [
            [
             0,
             "#0d0887"
            ],
            [
             0.1111111111111111,
             "#46039f"
            ],
            [
             0.2222222222222222,
             "#7201a8"
            ],
            [
             0.3333333333333333,
             "#9c179e"
            ],
            [
             0.4444444444444444,
             "#bd3786"
            ],
            [
             0.5555555555555556,
             "#d8576b"
            ],
            [
             0.6666666666666666,
             "#ed7953"
            ],
            [
             0.7777777777777778,
             "#fb9f3a"
            ],
            [
             0.8888888888888888,
             "#fdca26"
            ],
            [
             1,
             "#f0f921"
            ]
           ]
          },
          "colorway": [
           "#636efa",
           "#EF553B",
           "#00cc96",
           "#ab63fa",
           "#FFA15A",
           "#19d3f3",
           "#FF6692",
           "#B6E880",
           "#FF97FF",
           "#FECB52"
          ],
          "font": {
           "color": "#2a3f5f"
          },
          "geo": {
           "bgcolor": "white",
           "lakecolor": "white",
           "landcolor": "#E5ECF6",
           "showlakes": true,
           "showland": true,
           "subunitcolor": "white"
          },
          "hoverlabel": {
           "align": "left"
          },
          "hovermode": "closest",
          "mapbox": {
           "style": "light"
          },
          "paper_bgcolor": "white",
          "plot_bgcolor": "#E5ECF6",
          "polar": {
           "angularaxis": {
            "gridcolor": "white",
            "linecolor": "white",
            "ticks": ""
           },
           "bgcolor": "#E5ECF6",
           "radialaxis": {
            "gridcolor": "white",
            "linecolor": "white",
            "ticks": ""
           }
          },
          "scene": {
           "xaxis": {
            "backgroundcolor": "#E5ECF6",
            "gridcolor": "white",
            "gridwidth": 2,
            "linecolor": "white",
            "showbackground": true,
            "ticks": "",
            "zerolinecolor": "white"
           },
           "yaxis": {
            "backgroundcolor": "#E5ECF6",
            "gridcolor": "white",
            "gridwidth": 2,
            "linecolor": "white",
            "showbackground": true,
            "ticks": "",
            "zerolinecolor": "white"
           },
           "zaxis": {
            "backgroundcolor": "#E5ECF6",
            "gridcolor": "white",
            "gridwidth": 2,
            "linecolor": "white",
            "showbackground": true,
            "ticks": "",
            "zerolinecolor": "white"
           }
          },
          "shapedefaults": {
           "line": {
            "color": "#2a3f5f"
           }
          },
          "ternary": {
           "aaxis": {
            "gridcolor": "white",
            "linecolor": "white",
            "ticks": ""
           },
           "baxis": {
            "gridcolor": "white",
            "linecolor": "white",
            "ticks": ""
           },
           "bgcolor": "#E5ECF6",
           "caxis": {
            "gridcolor": "white",
            "linecolor": "white",
            "ticks": ""
           }
          },
          "title": {
           "x": 0.05
          },
          "xaxis": {
           "automargin": true,
           "gridcolor": "white",
           "linecolor": "white",
           "ticks": "",
           "title": {
            "standoff": 15
           },
           "zerolinecolor": "white",
           "zerolinewidth": 2
          },
          "yaxis": {
           "automargin": true,
           "gridcolor": "white",
           "linecolor": "white",
           "ticks": "",
           "title": {
            "standoff": 15
           },
           "zerolinecolor": "white",
           "zerolinewidth": 2
          }
         }
        },
        "title": {
         "text": "Revenue generated from Electricity Supply 2013-2023"
        }
       }
      }
     },
     "metadata": {},
     "output_type": "display_data"
    }
   ],
   "source": [
    "import plotly.graph_objects as go\n",
    "from plotly.subplots import make_subplots\n",
    "import pandas as pd\n",
    "import numpy as np\n",
    "\n",
    "rows = 2\n",
    "cols = 2\n",
    "fig = make_subplots(\n",
    "    rows=rows, cols=cols,\n",
    "    specs=[[{'type': 'choropleth'} for c in np.arange(cols)] for r in np.arange(rows)],\n",
    "    subplot_titles=['Commercial', 'Industrial', 'Residential', 'Transportation']\n",
    ")\n",
    "\n",
    "# Assuming you want to create multiple choropleth maps with 'sd' data\n",
    "for i in range(4):\n",
    "    fig.add_trace(go.Choropleth(\n",
    "        locations=sd['stateid'],\n",
    "        z=sd.iloc[:,sd.columns.get_loc('revenue_commercial')+i].astype(float),\n",
    "        locationmode='USA-states',\n",
    "        colorscale='Reds',\n",
    "        colorbar_title=\"Millions USD\",\n",
    "    ), row=i // cols + 1, col=i % cols + 1)\n",
    "\n",
    "fig.update_layout(\n",
    "    title_text='Revenue generated from Electricity Supply 2013-2023',\n",
    "    **{'geo' + str(i) + '_scope': 'usa' for i in [''] + np.arange(2, rows * cols + 1).tolist()},\n",
    ")\n",
    "\n",
    "for index, trace in enumerate(fig.data):\n",
    "    fig.data[index].hovertemplate = 'State: %{location}<br>Revenue: %{z:.2f}<extra></extra>'\n",
    "\n",
    "fig.show()"
   ]
  },
  {
   "cell_type": "markdown",
   "metadata": {},
   "source": [
    "### Prediction Models:"
   ]
  },
  {
   "cell_type": "code",
   "execution_count": 33,
   "metadata": {},
   "outputs": [
    {
     "data": {
      "text/html": [
       "<div>\n",
       "<style scoped>\n",
       "    .dataframe tbody tr th:only-of-type {\n",
       "        vertical-align: middle;\n",
       "    }\n",
       "\n",
       "    .dataframe tbody tr th {\n",
       "        vertical-align: top;\n",
       "    }\n",
       "\n",
       "    .dataframe thead th {\n",
       "        text-align: right;\n",
       "    }\n",
       "</style>\n",
       "<table border=\"1\" class=\"dataframe\">\n",
       "  <thead>\n",
       "    <tr style=\"text-align: right;\">\n",
       "      <th></th>\n",
       "      <th>period</th>\n",
       "      <th>stateid</th>\n",
       "      <th>stateDescription</th>\n",
       "      <th>sectorid</th>\n",
       "      <th>sectorName</th>\n",
       "      <th>customers</th>\n",
       "      <th>price</th>\n",
       "      <th>revenue</th>\n",
       "      <th>sales</th>\n",
       "      <th>customers-units</th>\n",
       "      <th>price-units</th>\n",
       "      <th>revenue-units</th>\n",
       "      <th>sales-units</th>\n",
       "    </tr>\n",
       "  </thead>\n",
       "  <tbody>\n",
       "    <tr>\n",
       "      <th>0</th>\n",
       "      <td>2023-08-01</td>\n",
       "      <td>NM</td>\n",
       "      <td>New Mexico</td>\n",
       "      <td>COM</td>\n",
       "      <td>commercial</td>\n",
       "      <td>146.67</td>\n",
       "      <td>11.34</td>\n",
       "      <td>107.93</td>\n",
       "      <td>951.39</td>\n",
       "      <td>number of customers in thousands</td>\n",
       "      <td>cents per kilowatthour</td>\n",
       "      <td>million dollars</td>\n",
       "      <td>million kilowatthours</td>\n",
       "    </tr>\n",
       "    <tr>\n",
       "      <th>1</th>\n",
       "      <td>2023-08-01</td>\n",
       "      <td>SC</td>\n",
       "      <td>South Carolina</td>\n",
       "      <td>IND</td>\n",
       "      <td>industrial</td>\n",
       "      <td>3.65</td>\n",
       "      <td>7.11</td>\n",
       "      <td>164.46</td>\n",
       "      <td>2311.44</td>\n",
       "      <td>number of customers in thousands</td>\n",
       "      <td>cents per kilowatthour</td>\n",
       "      <td>million dollars</td>\n",
       "      <td>million kilowatthours</td>\n",
       "    </tr>\n",
       "    <tr>\n",
       "      <th>2</th>\n",
       "      <td>2023-08-01</td>\n",
       "      <td>NEW</td>\n",
       "      <td>New England</td>\n",
       "      <td>IND</td>\n",
       "      <td>industrial</td>\n",
       "      <td>21.64</td>\n",
       "      <td>15.70</td>\n",
       "      <td>206.81</td>\n",
       "      <td>1317.47</td>\n",
       "      <td>number of customers in thousands</td>\n",
       "      <td>cents per kilowatthour</td>\n",
       "      <td>million dollars</td>\n",
       "      <td>million kilowatthours</td>\n",
       "    </tr>\n",
       "    <tr>\n",
       "      <th>3</th>\n",
       "      <td>2023-08-01</td>\n",
       "      <td>NEW</td>\n",
       "      <td>New England</td>\n",
       "      <td>COM</td>\n",
       "      <td>commercial</td>\n",
       "      <td>945.66</td>\n",
       "      <td>18.98</td>\n",
       "      <td>847.56</td>\n",
       "      <td>4465.05</td>\n",
       "      <td>number of customers in thousands</td>\n",
       "      <td>cents per kilowatthour</td>\n",
       "      <td>million dollars</td>\n",
       "      <td>million kilowatthours</td>\n",
       "    </tr>\n",
       "    <tr>\n",
       "      <th>4</th>\n",
       "      <td>2023-08-01</td>\n",
       "      <td>NEW</td>\n",
       "      <td>New England</td>\n",
       "      <td>ALL</td>\n",
       "      <td>all sectors</td>\n",
       "      <td>7546.86</td>\n",
       "      <td>22.18</td>\n",
       "      <td>2328.06</td>\n",
       "      <td>10494.39</td>\n",
       "      <td>number of customers in thousands</td>\n",
       "      <td>cents per kilowatthour</td>\n",
       "      <td>million dollars</td>\n",
       "      <td>million kilowatthours</td>\n",
       "    </tr>\n",
       "  </tbody>\n",
       "</table>\n",
       "</div>"
      ],
      "text/plain": [
       "      period stateid stateDescription sectorid   sectorName  customers  price  \\\n",
       "0 2023-08-01      NM       New Mexico      COM   commercial     146.67  11.34   \n",
       "1 2023-08-01      SC   South Carolina      IND   industrial       3.65   7.11   \n",
       "2 2023-08-01     NEW      New England      IND   industrial      21.64  15.70   \n",
       "3 2023-08-01     NEW      New England      COM   commercial     945.66  18.98   \n",
       "4 2023-08-01     NEW      New England      ALL  all sectors    7546.86  22.18   \n",
       "\n",
       "   revenue     sales                   customers-units  \\\n",
       "0   107.93    951.39  number of customers in thousands   \n",
       "1   164.46   2311.44  number of customers in thousands   \n",
       "2   206.81   1317.47  number of customers in thousands   \n",
       "3   847.56   4465.05  number of customers in thousands   \n",
       "4  2328.06  10494.39  number of customers in thousands   \n",
       "\n",
       "              price-units    revenue-units            sales-units  \n",
       "0  cents per kilowatthour  million dollars  million kilowatthours  \n",
       "1  cents per kilowatthour  million dollars  million kilowatthours  \n",
       "2  cents per kilowatthour  million dollars  million kilowatthours  \n",
       "3  cents per kilowatthour  million dollars  million kilowatthours  \n",
       "4  cents per kilowatthour  million dollars  million kilowatthours  "
      ]
     },
     "execution_count": 33,
     "metadata": {},
     "output_type": "execute_result"
    }
   ],
   "source": [
    "filtered_df.head()"
   ]
  },
  {
   "cell_type": "code",
   "execution_count": 34,
   "metadata": {},
   "outputs": [
    {
     "data": {
      "text/plain": [
       "Index(['period', 'stateid', 'stateDescription', 'sectorid', 'sectorName',\n",
       "       'customers', 'price', 'revenue', 'sales', 'customers-units',\n",
       "       'price-units', 'revenue-units', 'sales-units'],\n",
       "      dtype='object')"
      ]
     },
     "execution_count": 34,
     "metadata": {},
     "output_type": "execute_result"
    }
   ],
   "source": [
    "filtered_df.columns"
   ]
  },
  {
   "cell_type": "code",
   "execution_count": 35,
   "metadata": {},
   "outputs": [
    {
     "data": {
      "text/html": [
       "<div>\n",
       "<style scoped>\n",
       "    .dataframe tbody tr th:only-of-type {\n",
       "        vertical-align: middle;\n",
       "    }\n",
       "\n",
       "    .dataframe tbody tr th {\n",
       "        vertical-align: top;\n",
       "    }\n",
       "\n",
       "    .dataframe thead th {\n",
       "        text-align: right;\n",
       "    }\n",
       "</style>\n",
       "<table border=\"1\" class=\"dataframe\">\n",
       "  <thead>\n",
       "    <tr style=\"text-align: right;\">\n",
       "      <th></th>\n",
       "      <th>period</th>\n",
       "      <th>stateid</th>\n",
       "      <th>stateDescription</th>\n",
       "      <th>sectorid</th>\n",
       "      <th>customers</th>\n",
       "      <th>price</th>\n",
       "    </tr>\n",
       "  </thead>\n",
       "  <tbody>\n",
       "    <tr>\n",
       "      <th>0</th>\n",
       "      <td>2023-08-01</td>\n",
       "      <td>NM</td>\n",
       "      <td>New Mexico</td>\n",
       "      <td>COM</td>\n",
       "      <td>146.67</td>\n",
       "      <td>11.34</td>\n",
       "    </tr>\n",
       "    <tr>\n",
       "      <th>1</th>\n",
       "      <td>2023-08-01</td>\n",
       "      <td>SC</td>\n",
       "      <td>South Carolina</td>\n",
       "      <td>IND</td>\n",
       "      <td>3.65</td>\n",
       "      <td>7.11</td>\n",
       "    </tr>\n",
       "    <tr>\n",
       "      <th>2</th>\n",
       "      <td>2023-08-01</td>\n",
       "      <td>NEW</td>\n",
       "      <td>New England</td>\n",
       "      <td>IND</td>\n",
       "      <td>21.64</td>\n",
       "      <td>15.70</td>\n",
       "    </tr>\n",
       "    <tr>\n",
       "      <th>3</th>\n",
       "      <td>2023-08-01</td>\n",
       "      <td>NEW</td>\n",
       "      <td>New England</td>\n",
       "      <td>COM</td>\n",
       "      <td>945.66</td>\n",
       "      <td>18.98</td>\n",
       "    </tr>\n",
       "    <tr>\n",
       "      <th>4</th>\n",
       "      <td>2023-08-01</td>\n",
       "      <td>NEW</td>\n",
       "      <td>New England</td>\n",
       "      <td>ALL</td>\n",
       "      <td>7546.86</td>\n",
       "      <td>22.18</td>\n",
       "    </tr>\n",
       "  </tbody>\n",
       "</table>\n",
       "</div>"
      ],
      "text/plain": [
       "      period stateid stateDescription sectorid  customers  price\n",
       "0 2023-08-01      NM       New Mexico      COM     146.67  11.34\n",
       "1 2023-08-01      SC   South Carolina      IND       3.65   7.11\n",
       "2 2023-08-01     NEW      New England      IND      21.64  15.70\n",
       "3 2023-08-01     NEW      New England      COM     945.66  18.98\n",
       "4 2023-08-01     NEW      New England      ALL    7546.86  22.18"
      ]
     },
     "execution_count": 35,
     "metadata": {},
     "output_type": "execute_result"
    }
   ],
   "source": [
    "model_data = filtered_df.drop(['sales', 'revenue', 'sectorName','customers-units', 'price-units', 'revenue-units', 'sales-units'], axis=1)\n",
    "\n",
    "model_data.head()"
   ]
  },
  {
   "cell_type": "code",
   "execution_count": 36,
   "metadata": {},
   "outputs": [
    {
     "data": {
      "text/html": [
       "<div>\n",
       "<style scoped>\n",
       "    .dataframe tbody tr th:only-of-type {\n",
       "        vertical-align: middle;\n",
       "    }\n",
       "\n",
       "    .dataframe tbody tr th {\n",
       "        vertical-align: top;\n",
       "    }\n",
       "\n",
       "    .dataframe thead th {\n",
       "        text-align: right;\n",
       "    }\n",
       "</style>\n",
       "<table border=\"1\" class=\"dataframe\">\n",
       "  <thead>\n",
       "    <tr style=\"text-align: right;\">\n",
       "      <th></th>\n",
       "      <th>period</th>\n",
       "      <th>stateid</th>\n",
       "      <th>stateDescription</th>\n",
       "      <th>customers</th>\n",
       "      <th>price</th>\n",
       "      <th>stateDescription_mapping</th>\n",
       "      <th>sectorid_ALL</th>\n",
       "      <th>sectorid_COM</th>\n",
       "      <th>sectorid_IND</th>\n",
       "      <th>sectorid_RES</th>\n",
       "      <th>sectorid_TRA</th>\n",
       "      <th>Year</th>\n",
       "      <th>Month</th>\n",
       "    </tr>\n",
       "  </thead>\n",
       "  <tbody>\n",
       "    <tr>\n",
       "      <th>0</th>\n",
       "      <td>2023-08-01</td>\n",
       "      <td>NM</td>\n",
       "      <td>New Mexico</td>\n",
       "      <td>146.67</td>\n",
       "      <td>11.34</td>\n",
       "      <td>36</td>\n",
       "      <td>0</td>\n",
       "      <td>1</td>\n",
       "      <td>0</td>\n",
       "      <td>0</td>\n",
       "      <td>0</td>\n",
       "      <td>2023</td>\n",
       "      <td>8</td>\n",
       "    </tr>\n",
       "    <tr>\n",
       "      <th>1</th>\n",
       "      <td>2023-08-01</td>\n",
       "      <td>SC</td>\n",
       "      <td>South Carolina</td>\n",
       "      <td>3.65</td>\n",
       "      <td>7.11</td>\n",
       "      <td>48</td>\n",
       "      <td>0</td>\n",
       "      <td>0</td>\n",
       "      <td>1</td>\n",
       "      <td>0</td>\n",
       "      <td>0</td>\n",
       "      <td>2023</td>\n",
       "      <td>8</td>\n",
       "    </tr>\n",
       "    <tr>\n",
       "      <th>2</th>\n",
       "      <td>2023-08-01</td>\n",
       "      <td>NEW</td>\n",
       "      <td>New England</td>\n",
       "      <td>21.64</td>\n",
       "      <td>15.70</td>\n",
       "      <td>33</td>\n",
       "      <td>0</td>\n",
       "      <td>0</td>\n",
       "      <td>1</td>\n",
       "      <td>0</td>\n",
       "      <td>0</td>\n",
       "      <td>2023</td>\n",
       "      <td>8</td>\n",
       "    </tr>\n",
       "    <tr>\n",
       "      <th>3</th>\n",
       "      <td>2023-08-01</td>\n",
       "      <td>NEW</td>\n",
       "      <td>New England</td>\n",
       "      <td>945.66</td>\n",
       "      <td>18.98</td>\n",
       "      <td>33</td>\n",
       "      <td>0</td>\n",
       "      <td>1</td>\n",
       "      <td>0</td>\n",
       "      <td>0</td>\n",
       "      <td>0</td>\n",
       "      <td>2023</td>\n",
       "      <td>8</td>\n",
       "    </tr>\n",
       "    <tr>\n",
       "      <th>4</th>\n",
       "      <td>2023-08-01</td>\n",
       "      <td>NEW</td>\n",
       "      <td>New England</td>\n",
       "      <td>7546.86</td>\n",
       "      <td>22.18</td>\n",
       "      <td>33</td>\n",
       "      <td>1</td>\n",
       "      <td>0</td>\n",
       "      <td>0</td>\n",
       "      <td>0</td>\n",
       "      <td>0</td>\n",
       "      <td>2023</td>\n",
       "      <td>8</td>\n",
       "    </tr>\n",
       "  </tbody>\n",
       "</table>\n",
       "</div>"
      ],
      "text/plain": [
       "      period stateid stateDescription  customers  price  \\\n",
       "0 2023-08-01      NM       New Mexico     146.67  11.34   \n",
       "1 2023-08-01      SC   South Carolina       3.65   7.11   \n",
       "2 2023-08-01     NEW      New England      21.64  15.70   \n",
       "3 2023-08-01     NEW      New England     945.66  18.98   \n",
       "4 2023-08-01     NEW      New England    7546.86  22.18   \n",
       "\n",
       "   stateDescription_mapping  sectorid_ALL  sectorid_COM  sectorid_IND  \\\n",
       "0                        36             0             1             0   \n",
       "1                        48             0             0             1   \n",
       "2                        33             0             0             1   \n",
       "3                        33             0             1             0   \n",
       "4                        33             1             0             0   \n",
       "\n",
       "   sectorid_RES  sectorid_TRA  Year  Month  \n",
       "0             0             0  2023      8  \n",
       "1             0             0  2023      8  \n",
       "2             0             0  2023      8  \n",
       "3             0             0  2023      8  \n",
       "4             0             0  2023      8  "
      ]
     },
     "execution_count": 36,
     "metadata": {},
     "output_type": "execute_result"
    }
   ],
   "source": [
    "# List of State Names\n",
    "stateDescription_list = list(model_data.stateDescription.value_counts().index.sort_values())\n",
    "\n",
    "# Create a mapping dictionary for state names with numbers\n",
    "states_dict = {}\n",
    "\n",
    "for index, element in enumerate(stateDescription_list):\n",
    "    states_dict[element] = index\n",
    "\n",
    "# Add a column 'stateDescription_mapping' to the model_data dataframe\n",
    "model_data['stateDescription_mapping'] = model_data['stateDescription'].apply(lambda x: states_dict.get(x))\n",
    "\n",
    "# Splitting the categorical variable column sectorid into dummmy columns\n",
    "model_data = pd.get_dummies(model_data , columns=['sectorid'])\n",
    "\n",
    "# Separating the Year and Month into separate columns for better training \n",
    "model_data['Year'] = model_data['period'].dt.year\n",
    "model_data['Month'] = model_data['period'].dt.month\n",
    "\n",
    "model_data.head()"
   ]
  },
  {
   "cell_type": "markdown",
   "metadata": {},
   "source": [
    "### Linear Regression"
   ]
  },
  {
   "cell_type": "code",
   "execution_count": 38,
   "metadata": {},
   "outputs": [],
   "source": [
    "from sklearn.linear_model import LinearRegression\n",
    "from sklearn.model_selection import train_test_split\n",
    "\n",
    "# Defining the features and target variable\n",
    "\n",
    "X = model_data[['customers',\n",
    "       'stateDescription_mapping', 'sectorid_ALL', 'sectorid_COM',\n",
    "       'sectorid_IND', 'sectorid_RES', 'sectorid_TRA', 'Year', 'Month']]\n",
    "y = model_data['price']\n",
    "\n",
    "# Splitting the dataset\n",
    "X_train, X_test, y_train, y_test = train_test_split(X, y, test_size=0.20, random_state=42)\n",
    "\n",
    "# Training the model\n",
    "reg = LinearRegression().fit(X_train, y_train)\n",
    "\n",
    "# Making predictions\n",
    "y_pred = reg.predict(X_test)"
   ]
  },
  {
   "cell_type": "code",
   "execution_count": 39,
   "metadata": {},
   "outputs": [
    {
     "data": {
      "text/html": [
       "<div>\n",
       "<style scoped>\n",
       "    .dataframe tbody tr th:only-of-type {\n",
       "        vertical-align: middle;\n",
       "    }\n",
       "\n",
       "    .dataframe tbody tr th {\n",
       "        vertical-align: top;\n",
       "    }\n",
       "\n",
       "    .dataframe thead th {\n",
       "        text-align: right;\n",
       "    }\n",
       "</style>\n",
       "<table border=\"1\" class=\"dataframe\">\n",
       "  <thead>\n",
       "    <tr style=\"text-align: right;\">\n",
       "      <th></th>\n",
       "      <th>Actual value</th>\n",
       "      <th>Predicted value using Linear Regression</th>\n",
       "    </tr>\n",
       "  </thead>\n",
       "  <tbody>\n",
       "    <tr>\n",
       "      <th>44505</th>\n",
       "      <td>0.00</td>\n",
       "      <td>5.958204</td>\n",
       "    </tr>\n",
       "    <tr>\n",
       "      <th>41269</th>\n",
       "      <td>10.80</td>\n",
       "      <td>6.180739</td>\n",
       "    </tr>\n",
       "    <tr>\n",
       "      <th>40975</th>\n",
       "      <td>7.81</td>\n",
       "      <td>7.000577</td>\n",
       "    </tr>\n",
       "    <tr>\n",
       "      <th>37855</th>\n",
       "      <td>10.48</td>\n",
       "      <td>10.309995</td>\n",
       "    </tr>\n",
       "    <tr>\n",
       "      <th>31358</th>\n",
       "      <td>10.39</td>\n",
       "      <td>10.557496</td>\n",
       "    </tr>\n",
       "    <tr>\n",
       "      <th>40186</th>\n",
       "      <td>9.51</td>\n",
       "      <td>10.368703</td>\n",
       "    </tr>\n",
       "    <tr>\n",
       "      <th>5979</th>\n",
       "      <td>12.58</td>\n",
       "      <td>12.420388</td>\n",
       "    </tr>\n",
       "    <tr>\n",
       "      <th>21816</th>\n",
       "      <td>7.13</td>\n",
       "      <td>12.423982</td>\n",
       "    </tr>\n",
       "    <tr>\n",
       "      <th>18780</th>\n",
       "      <td>17.54</td>\n",
       "      <td>13.590779</td>\n",
       "    </tr>\n",
       "    <tr>\n",
       "      <th>37060</th>\n",
       "      <td>0.00</td>\n",
       "      <td>5.213869</td>\n",
       "    </tr>\n",
       "  </tbody>\n",
       "</table>\n",
       "</div>"
      ],
      "text/plain": [
       "       Actual value  Predicted value using Linear Regression\n",
       "44505          0.00                                 5.958204\n",
       "41269         10.80                                 6.180739\n",
       "40975          7.81                                 7.000577\n",
       "37855         10.48                                10.309995\n",
       "31358         10.39                                10.557496\n",
       "40186          9.51                                10.368703\n",
       "5979          12.58                                12.420388\n",
       "21816          7.13                                12.423982\n",
       "18780         17.54                                13.590779\n",
       "37060          0.00                                 5.213869"
      ]
     },
     "execution_count": 39,
     "metadata": {},
     "output_type": "execute_result"
    }
   ],
   "source": [
    "#Concatenating the Predicted values and actual values in one dataframe.\n",
    "\n",
    "lr_op = pd.DataFrame({'Actual value': y_test, 'Predicted value using Linear Regression': y_pred})\n",
    "lr_op.head(10)"
   ]
  },
  {
   "cell_type": "markdown",
   "metadata": {},
   "source": [
    "#### Evaluate the model:"
   ]
  },
  {
   "cell_type": "code",
   "execution_count": 40,
   "metadata": {},
   "outputs": [
    {
     "name": "stdout",
     "output_type": "stream",
     "text": [
      "Mean Squared Error for Linear Regression: 20.802806335818467\n",
      "Mean Absolute Error for Linear Regression: 3.264939176284788\n",
      "R2 SCORE for Linear Regression:  28.72183063416808 %\n"
     ]
    }
   ],
   "source": [
    "from sklearn import metrics\n",
    "from sklearn.metrics import r2_score\n",
    "from sklearn.metrics import mean_squared_error, mean_absolute_error\n",
    "\n",
    "# mse and mae\n",
    "mse_linearRegression = mean_squared_error(y_test, y_pred)\n",
    "mae_linearRegression = mean_absolute_error(y_test, y_pred)\n",
    "\n",
    "print(f'Mean Squared Error for Linear Regression: {mse_linearRegression}')\n",
    "print(f'Mean Absolute Error for Linear Regression: {mae_linearRegression}')\n",
    "\n",
    "#R2 score (i.e accuracy) of prediction\n",
    "r2_sscore_linearRegression = r2_score(y_test, y_pred)\n",
    "print('R2 SCORE for Linear Regression: ',r2_sscore_linearRegression*100,'%')"
   ]
  },
  {
   "cell_type": "markdown",
   "metadata": {},
   "source": [
    "### Random Forest"
   ]
  },
  {
   "cell_type": "code",
   "execution_count": 41,
   "metadata": {},
   "outputs": [],
   "source": [
    "from sklearn.ensemble import RandomForestRegressor\n",
    "\n",
    "# Initialize the Random Forest Regressor\n",
    "rf_model = RandomForestRegressor(n_estimators=100, random_state=42)\n",
    "\n",
    "# Train the model\n",
    "rf_model.fit(X_train, y_train)\n",
    "\n",
    "# Make predictions on the test set\n",
    "y_pred = rf_model.predict(X_test)"
   ]
  },
  {
   "cell_type": "markdown",
   "metadata": {},
   "source": [
    "#### Feature Importance"
   ]
  },
  {
   "cell_type": "code",
   "execution_count": 42,
   "metadata": {},
   "outputs": [
    {
     "name": "stdout",
     "output_type": "stream",
     "text": [
      "[4.04909539e-01 4.75443387e-01 8.87377288e-04 2.69239441e-03\n",
      " 1.07481347e-02 3.46062651e-02 1.05347387e-04 5.96971948e-02\n",
      " 1.09103601e-02]\n"
     ]
    }
   ],
   "source": [
    "print(rf_model.feature_importances_)"
   ]
  },
  {
   "cell_type": "markdown",
   "metadata": {},
   "source": [
    "### Model Evaluation"
   ]
  },
  {
   "cell_type": "code",
   "execution_count": 43,
   "metadata": {},
   "outputs": [
    {
     "name": "stdout",
     "output_type": "stream",
     "text": [
      "Mean Squared Error for Random Forest: 0.3193132651147645\n",
      "Mean Absolute Error for Random Forest: 0.29718859594706365\n",
      "R2 SCORE for Random Forest:  98.91 %\n"
     ]
    }
   ],
   "source": [
    "# Evaluate the model\n",
    "mse_rf = mean_squared_error(y_test, y_pred)\n",
    "mae_rf = mean_absolute_error(y_test, y_pred)\n",
    "\n",
    "print(f'Mean Squared Error for Random Forest: {mse_rf}')\n",
    "print(f'Mean Absolute Error for Random Forest: {mae_rf}')\n",
    "\n",
    "r2_s_rf = r2_score(y_test, y_pred)\n",
    "print('R2 SCORE for Random Forest: ',round(r2_s_rf*100,2),'%')"
   ]
  },
  {
   "cell_type": "markdown",
   "metadata": {},
   "source": [
    "Feature importances represent the contribution of each feature to the model's predictions. Here's how to interpret them:\n",
    "\n",
    "    1. Customers (0.4049):\n",
    "        This feature has the highest importance, suggesting that it has a significant impact on the model's predictions. Higher values of \"Customers\" likely correspond to higher predicted prices.\n",
    "\n",
    "    2. State Description Mapping (0.4754):\n",
    "        The second most important feature. It indicates that the mapping of state descriptions contributes significantly to the model's predictions.\n",
    "\n",
    "    3. Sector ID ALL (0.0009):\n",
    "        This feature has a very low importance, suggesting that it doesn't contribute much to the model's predictions.\n",
    "\n",
    "    4. Sector ID COM (0.0027):\n",
    "        Similar to \"Sector ID ALL,\" this feature has relatively low importance.\n",
    "\n",
    "    5. Sector ID IND (0.0107):\n",
    "        Higher importance than \"Sector ID ALL\" and \"Sector ID COM,\" but still lower than the top features.\n",
    "\n",
    "    6. Sector ID RES (0.0346):\n",
    "        This feature has higher importance, suggesting it has a more substantial impact on predictions.\n",
    "\n",
    "    7. Sector ID TRA (0.0001):\n",
    "        Very low importance, indicating minimal contribution.\n",
    "\n",
    "    8. Year (0.0597):\n",
    "        This feature has relatively high importance, suggesting that the year plays a significant role in predicting prices.\n",
    "\n",
    "    9. Month (0.0109):\n",
    "        While not as influential as some other features, the month also contributes to the model's predictions.\n",
    "\n",
    "In summary, the feature importances provide insights into which features are most influential in your Random Forest Regressor model. Features with higher importances have a more substantial impact on predictions. It's essential to interpret these results in the context of your specific problem and dataset. Consider how these features align with your domain knowledge and whether the results make sense given the nature of the data."
   ]
  },
  {
   "cell_type": "code",
   "execution_count": 44,
   "metadata": {},
   "outputs": [
    {
     "data": {
      "text/html": [
       "<div>\n",
       "<style scoped>\n",
       "    .dataframe tbody tr th:only-of-type {\n",
       "        vertical-align: middle;\n",
       "    }\n",
       "\n",
       "    .dataframe tbody tr th {\n",
       "        vertical-align: top;\n",
       "    }\n",
       "\n",
       "    .dataframe thead th {\n",
       "        text-align: right;\n",
       "    }\n",
       "</style>\n",
       "<table border=\"1\" class=\"dataframe\">\n",
       "  <thead>\n",
       "    <tr style=\"text-align: right;\">\n",
       "      <th></th>\n",
       "      <th>Actual value</th>\n",
       "      <th>Predicted value using Random Forest</th>\n",
       "    </tr>\n",
       "  </thead>\n",
       "  <tbody>\n",
       "    <tr>\n",
       "      <th>44505</th>\n",
       "      <td>0.00</td>\n",
       "      <td>0.0000</td>\n",
       "    </tr>\n",
       "    <tr>\n",
       "      <th>41269</th>\n",
       "      <td>10.80</td>\n",
       "      <td>10.4820</td>\n",
       "    </tr>\n",
       "    <tr>\n",
       "      <th>40975</th>\n",
       "      <td>7.81</td>\n",
       "      <td>7.7161</td>\n",
       "    </tr>\n",
       "    <tr>\n",
       "      <th>37855</th>\n",
       "      <td>10.48</td>\n",
       "      <td>10.4566</td>\n",
       "    </tr>\n",
       "    <tr>\n",
       "      <th>31358</th>\n",
       "      <td>10.39</td>\n",
       "      <td>10.2808</td>\n",
       "    </tr>\n",
       "    <tr>\n",
       "      <th>40186</th>\n",
       "      <td>9.51</td>\n",
       "      <td>9.5167</td>\n",
       "    </tr>\n",
       "    <tr>\n",
       "      <th>5979</th>\n",
       "      <td>12.58</td>\n",
       "      <td>12.5198</td>\n",
       "    </tr>\n",
       "    <tr>\n",
       "      <th>21816</th>\n",
       "      <td>7.13</td>\n",
       "      <td>7.7501</td>\n",
       "    </tr>\n",
       "    <tr>\n",
       "      <th>18780</th>\n",
       "      <td>17.54</td>\n",
       "      <td>17.6925</td>\n",
       "    </tr>\n",
       "    <tr>\n",
       "      <th>37060</th>\n",
       "      <td>0.00</td>\n",
       "      <td>0.0000</td>\n",
       "    </tr>\n",
       "  </tbody>\n",
       "</table>\n",
       "</div>"
      ],
      "text/plain": [
       "       Actual value  Predicted value using Random Forest\n",
       "44505          0.00                               0.0000\n",
       "41269         10.80                              10.4820\n",
       "40975          7.81                               7.7161\n",
       "37855         10.48                              10.4566\n",
       "31358         10.39                              10.2808\n",
       "40186          9.51                               9.5167\n",
       "5979          12.58                              12.5198\n",
       "21816          7.13                               7.7501\n",
       "18780         17.54                              17.6925\n",
       "37060          0.00                               0.0000"
      ]
     },
     "execution_count": 44,
     "metadata": {},
     "output_type": "execute_result"
    }
   ],
   "source": [
    "#Concatenating the Predicted values and actual values in one dataframe.\n",
    "\n",
    "rf_op = pd.DataFrame({'Actual value': y_test, 'Predicted value using Random Forest': y_pred})\n",
    "rf_op.head(10)"
   ]
  },
  {
   "cell_type": "code",
   "execution_count": 46,
   "metadata": {},
   "outputs": [
    {
     "name": "stdout",
     "output_type": "stream",
     "text": [
      "\n",
      "Cross-Validation Accuracy for Linear Regression Model: 27.01\n",
      "\n",
      "Cross-Validation Accuracy for Random Forest Model: 92.39\n"
     ]
    }
   ],
   "source": [
    "from sklearn.model_selection import cross_val_score\n",
    "\n",
    "# Code for Cross-Validation\n",
    "cv_accuracy_lr = cross_val_score(reg, X, y, cv=5, scoring='r2')\n",
    "cv_accuracy_rf = cross_val_score(rf_model, X, y, cv=5, scoring='r2')\n",
    "\n",
    "print(f'\\nCross-Validation Accuracy for Linear Regression Model: {cv_accuracy_lr.mean()*100:.2f}')\n",
    "print(f'\\nCross-Validation Accuracy for Random Forest Model: {cv_accuracy_rf.mean()*100:.2f}')"
   ]
  },
  {
   "cell_type": "markdown",
   "metadata": {},
   "source": [
    "### Time Series Forecasting"
   ]
  },
  {
   "cell_type": "code",
   "execution_count": 47,
   "metadata": {},
   "outputs": [],
   "source": [
    "from statsmodels.tsa.arima.model import ARIMA\n",
    "from statsmodels.tsa.stattools import adfuller\n",
    "from statsmodels.graphics.tsaplots import plot_acf, plot_pacf\n",
    "from matplotlib import pyplot"
   ]
  },
  {
   "cell_type": "code",
   "execution_count": 48,
   "metadata": {},
   "outputs": [],
   "source": [
    "s = filtered_df.groupby(['stateDescription','sectorid','period']).mean()\n",
    "sdf = pd.DataFrame(s)"
   ]
  },
  {
   "cell_type": "code",
   "execution_count": 49,
   "metadata": {},
   "outputs": [
    {
     "data": {
      "text/plain": [
       "<matplotlib.axes._subplots.AxesSubplot at 0x7ff62e18a650>"
      ]
     },
     "execution_count": 49,
     "metadata": {},
     "output_type": "execute_result"
    },
    {
     "data": {
      "image/png": "[encoded data removed]",
      "text/plain": [
       "<Figure size 432x288 with 1 Axes>"
      ]
     },
     "metadata": {
      "needs_background": "light"
     },
     "output_type": "display_data"
    }
   ],
   "source": [
    "sdf.loc['Texas','RES']['customers'].plot()"
   ]
  },
  {
   "cell_type": "code",
   "execution_count": 50,
   "metadata": {},
   "outputs": [
    {
     "data": {
      "image/png": "[encoded data removed]",
      "text/plain": [
       "<Figure size 1080x840 with 3 Axes>"
      ]
     },
     "metadata": {
      "needs_background": "light"
     },
     "output_type": "display_data"
    }
   ],
   "source": [
    "import numpy as np, pandas as pd\n",
    "import matplotlib.pyplot as plt\n",
    "plt.rcParams.update({'figure.figsize':(9,7), 'figure.dpi':120})\n",
    " \n",
    "# Original Series\n",
    "fig, (ax1, ax2, ax3) = plt.subplots(3)\n",
    "ax1.plot(sdf.loc['Texas','RES']['customers']); ax1.set_title('Original Series'); ax1.axes.xaxis.set_visible(False)\n",
    "# 1st Differencing\n",
    "ax2.plot(sdf.loc['Texas','RES']['customers'].diff()); ax2.set_title('1st Order Differencing'); ax2.axes.xaxis.set_visible(False)\n",
    "# 2nd Differencing\n",
    "ax3.plot(sdf.loc['Texas','RES']['customers'].diff().diff()); ax3.set_title('2nd Order Differencing')\n",
    "plt.show()\n"
   ]
  },
  {
   "cell_type": "code",
   "execution_count": 51,
   "metadata": {},
   "outputs": [
    {
     "data": {
      "image/png": "[encoded data removed]",
      "text/plain": [
       "<Figure size 1080x840 with 1 Axes>"
      ]
     },
     "execution_count": 51,
     "metadata": {},
     "output_type": "execute_result"
    },
    {
     "data": {
      "image/png": "[encoded data removed]",
      "text/plain": [
       "<Figure size 1080x840 with 1 Axes>"
      ]
     },
     "metadata": {
      "needs_background": "light"
     },
     "output_type": "display_data"
    }
   ],
   "source": [
    "plot_acf(sdf.loc['Texas','RES']['customers'].diff().dropna())"
   ]
  },
  {
   "cell_type": "code",
   "execution_count": 52,
   "metadata": {},
   "outputs": [
    {
     "data": {
      "image/png": "[encoded data removed]",
      "text/plain": [
       "<Figure size 1080x840 with 1 Axes>"
      ]
     },
     "execution_count": 52,
     "metadata": {},
     "output_type": "execute_result"
    },
    {
     "data": {
      "image/png": "[encoded data removed]",
      "text/plain": [
       "<Figure size 1080x840 with 1 Axes>"
      ]
     },
     "metadata": {
      "needs_background": "light"
     },
     "output_type": "display_data"
    }
   ],
   "source": [
    "plot_pacf(sdf.loc['Texas','RES']['customers'].diff().dropna())"
   ]
  },
  {
   "cell_type": "code",
   "execution_count": 53,
   "metadata": {},
   "outputs": [
    {
     "name": "stderr",
     "output_type": "stream",
     "text": [
      "/opt/anaconda3/lib/python3.7/site-packages/statsmodels/tsa/base/tsa_model.py:162: ValueWarning:\n",
      "\n",
      "No frequency information was provided, so inferred frequency MS will be used.\n",
      "\n",
      "/opt/anaconda3/lib/python3.7/site-packages/statsmodels/tsa/base/tsa_model.py:162: ValueWarning:\n",
      "\n",
      "No frequency information was provided, so inferred frequency MS will be used.\n",
      "\n"
     ]
    },
    {
     "data": {
      "text/html": [
       "<table class=\"simpletable\">\n",
       "<caption>ARIMA Model Results</caption>\n",
       "<tr>\n",
       "  <th>Dep. Variable:</th>    <td>D.customers</td>   <th>  No. Observations:  </th>    <td>155</td>  \n",
       "</tr>\n",
       "<tr>\n",
       "  <th>Model:</th>          <td>ARIMA(4, 1, 2)</td>  <th>  Log Likelihood     </th> <td>-889.677</td>\n",
       "</tr>\n",
       "<tr>\n",
       "  <th>Method:</th>             <td>css-mle</td>     <th>  S.D. of innovations</th>  <td>75.030</td> \n",
       "</tr>\n",
       "<tr>\n",
       "  <th>Date:</th>          <td>Fri, 01 Dec 2023</td> <th>  AIC                </th> <td>1795.355</td>\n",
       "</tr>\n",
       "<tr>\n",
       "  <th>Time:</th>              <td>22:33:16</td>     <th>  BIC                </th> <td>1819.702</td>\n",
       "</tr>\n",
       "<tr>\n",
       "  <th>Sample:</th>           <td>10-01-2010</td>    <th>  HQIC               </th> <td>1805.244</td>\n",
       "</tr>\n",
       "<tr>\n",
       "  <th></th>                 <td>- 08-01-2023</td>   <th>                     </th>     <td> </td>   \n",
       "</tr>\n",
       "</table>\n",
       "<table class=\"simpletable\">\n",
       "<tr>\n",
       "          <td></td>             <th>coef</th>     <th>std err</th>      <th>z</th>      <th>P>|z|</th>  <th>[0.025</th>    <th>0.975]</th>  \n",
       "</tr>\n",
       "<tr>\n",
       "  <th>const</th>             <td>   17.2003</td> <td>    1.584</td> <td>   10.858</td> <td> 0.000</td> <td>   14.095</td> <td>   20.305</td>\n",
       "</tr>\n",
       "<tr>\n",
       "  <th>ar.L1.D.customers</th> <td>   -0.1462</td> <td>    0.284</td> <td>   -0.514</td> <td> 0.607</td> <td>   -0.703</td> <td>    0.411</td>\n",
       "</tr>\n",
       "<tr>\n",
       "  <th>ar.L2.D.customers</th> <td>    0.2298</td> <td>    0.163</td> <td>    1.413</td> <td> 0.158</td> <td>   -0.089</td> <td>    0.549</td>\n",
       "</tr>\n",
       "<tr>\n",
       "  <th>ar.L3.D.customers</th> <td>   -0.0329</td> <td>    0.088</td> <td>   -0.375</td> <td> 0.708</td> <td>   -0.205</td> <td>    0.139</td>\n",
       "</tr>\n",
       "<tr>\n",
       "  <th>ar.L4.D.customers</th> <td>   -0.2658</td> <td>    0.083</td> <td>   -3.219</td> <td> 0.001</td> <td>   -0.428</td> <td>   -0.104</td>\n",
       "</tr>\n",
       "<tr>\n",
       "  <th>ma.L1.D.customers</th> <td>   -0.2778</td> <td>    0.295</td> <td>   -0.940</td> <td> 0.347</td> <td>   -0.857</td> <td>    0.301</td>\n",
       "</tr>\n",
       "<tr>\n",
       "  <th>ma.L2.D.customers</th> <td>   -0.4137</td> <td>    0.267</td> <td>   -1.548</td> <td> 0.122</td> <td>   -0.937</td> <td>    0.110</td>\n",
       "</tr>\n",
       "</table>\n",
       "<table class=\"simpletable\">\n",
       "<caption>Roots</caption>\n",
       "<tr>\n",
       "    <td></td>   <th>            Real</th>  <th>         Imaginary</th> <th>         Modulus</th>  <th>        Frequency</th>\n",
       "</tr>\n",
       "<tr>\n",
       "  <th>AR.1</th> <td>          -1.1207</td> <td>          -0.7835j</td> <td>           1.3675</td> <td>          -0.4029</td>\n",
       "</tr>\n",
       "<tr>\n",
       "  <th>AR.2</th> <td>          -1.1207</td> <td>          +0.7835j</td> <td>           1.3675</td> <td>           0.4029</td>\n",
       "</tr>\n",
       "<tr>\n",
       "  <th>AR.3</th> <td>           1.0588</td> <td>          -0.9439j</td> <td>           1.4185</td> <td>          -0.1159</td>\n",
       "</tr>\n",
       "<tr>\n",
       "  <th>AR.4</th> <td>           1.0588</td> <td>          +0.9439j</td> <td>           1.4185</td> <td>           0.1159</td>\n",
       "</tr>\n",
       "<tr>\n",
       "  <th>MA.1</th> <td>           1.2548</td> <td>          +0.0000j</td> <td>           1.2548</td> <td>           0.0000</td>\n",
       "</tr>\n",
       "<tr>\n",
       "  <th>MA.2</th> <td>          -1.9265</td> <td>          +0.0000j</td> <td>           1.9265</td> <td>           0.5000</td>\n",
       "</tr>\n",
       "</table>"
      ],
      "text/plain": [
       "<class 'statsmodels.iolib.summary.Summary'>\n",
       "\"\"\"\n",
       "                             ARIMA Model Results                              \n",
       "==============================================================================\n",
       "Dep. Variable:            D.customers   No. Observations:                  155\n",
       "Model:                 ARIMA(4, 1, 2)   Log Likelihood                -889.677\n",
       "Method:                       css-mle   S.D. of innovations             75.030\n",
       "Date:                Fri, 01 Dec 2023   AIC                           1795.355\n",
       "Time:                        22:33:16   BIC                           1819.702\n",
       "Sample:                    10-01-2010   HQIC                          1805.244\n",
       "                         - 08-01-2023                                         \n",
       "=====================================================================================\n",
       "                        coef    std err          z      P>|z|      [0.025      0.975]\n",
       "-------------------------------------------------------------------------------------\n",
       "const                17.2003      1.584     10.858      0.000      14.095      20.305\n",
       "ar.L1.D.customers    -0.1462      0.284     -0.514      0.607      -0.703       0.411\n",
       "ar.L2.D.customers     0.2298      0.163      1.413      0.158      -0.089       0.549\n",
       "ar.L3.D.customers    -0.0329      0.088     -0.375      0.708      -0.205       0.139\n",
       "ar.L4.D.customers    -0.2658      0.083     -3.219      0.001      -0.428      -0.104\n",
       "ma.L1.D.customers    -0.2778      0.295     -0.940      0.347      -0.857       0.301\n",
       "ma.L2.D.customers    -0.4137      0.267     -1.548      0.122      -0.937       0.110\n",
       "                                    Roots                                    \n",
       "=============================================================================\n",
       "                  Real          Imaginary           Modulus         Frequency\n",
       "-----------------------------------------------------------------------------\n",
       "AR.1           -1.1207           -0.7835j            1.3675           -0.4029\n",
       "AR.2           -1.1207           +0.7835j            1.3675            0.4029\n",
       "AR.3            1.0588           -0.9439j            1.4185           -0.1159\n",
       "AR.4            1.0588           +0.9439j            1.4185            0.1159\n",
       "MA.1            1.2548           +0.0000j            1.2548            0.0000\n",
       "MA.2           -1.9265           +0.0000j            1.9265            0.5000\n",
       "-----------------------------------------------------------------------------\n",
       "\"\"\""
      ]
     },
     "execution_count": 53,
     "metadata": {},
     "output_type": "execute_result"
    }
   ],
   "source": [
    "from statsmodels.tsa.arima_model import ARIMA\n",
    "\n",
    "model = ARIMA(sdf.loc['Texas','RES']['customers'], order = (4,1,2))\n",
    "model_fit = model.fit(disp=0)\n",
    "model_fit.summary()"
   ]
  },
  {
   "cell_type": "code",
   "execution_count": 54,
   "metadata": {},
   "outputs": [
    {
     "name": "stderr",
     "output_type": "stream",
     "text": [
      "/opt/anaconda3/lib/python3.7/site-packages/statsmodels/tsa/base/tsa_model.py:342: FutureWarning:\n",
      "\n",
      "The 'freq' argument in Timestamp is deprecated and will be removed in a future version.\n",
      "\n"
     ]
    },
    {
     "data": {
      "image/png": "[encoded data removed]",
      "text/plain": [
       "<Figure size 1080x840 with 1 Axes>"
      ]
     },
     "metadata": {
      "needs_background": "light"
     },
     "output_type": "display_data"
    }
   ],
   "source": [
    "model_fit.plot_predict(dynamic=False)\n",
    "plt.show()"
   ]
  },
  {
   "cell_type": "markdown",
   "metadata": {},
   "source": [
    "#### Forecast the number of customers for the next year"
   ]
  },
  {
   "cell_type": "code",
   "execution_count": 55,
   "metadata": {},
   "outputs": [
    {
     "name": "stderr",
     "output_type": "stream",
     "text": [
      "/opt/anaconda3/lib/python3.7/site-packages/statsmodels/tsa/base/tsa_model.py:342: FutureWarning:\n",
      "\n",
      "The 'freq' argument in Timestamp is deprecated and will be removed in a future version.\n",
      "\n"
     ]
    }
   ],
   "source": [
    "\n",
    "start_index = '2023-09'\n",
    "end_index = '2024-09'\n",
    "\n",
    "forecast = model_fit.predict(start = start_index,end=end_index, dynamic=True, typ='levels')"
   ]
  },
  {
   "cell_type": "code",
   "execution_count": 56,
   "metadata": {},
   "outputs": [
    {
     "name": "stdout",
     "output_type": "stream",
     "text": [
      "2023-09-01    12205.249826\n",
      "2023-10-01    12223.066071\n",
      "2023-11-01    12237.017011\n",
      "2023-12-01    12246.966657\n",
      "2024-01-01    12268.196965\n",
      "2024-02-01    12283.084967\n",
      "2024-03-01    12302.651601\n",
      "2024-04-01    12320.769094\n",
      "2024-05-01    12337.384034\n",
      "2024-06-01    12355.417383\n",
      "2024-07-01    12371.702216\n",
      "2024-08-01    12389.003229\n",
      "2024-09-01    12406.106552\n",
      "Freq: MS, dtype: float64\n"
     ]
    }
   ],
   "source": [
    "print(forecast)"
   ]
  }
 ],
 "metadata": {
  "kernelspec": {
   "display_name": "base",
   "language": "python",
   "name": "python3"
  },
  "language_info": {
   "codemirror_mode": {
    "name": "ipython",
    "version": 3
   },
   "file_extension": ".py",
   "mimetype": "text/x-python",
   "name": "python",
   "nbconvert_exporter": "python",
   "pygments_lexer": "ipython3",
   "version": "3.7.4"
  }
 },
 "nbformat": 4,
 "nbformat_minor": 2
}
