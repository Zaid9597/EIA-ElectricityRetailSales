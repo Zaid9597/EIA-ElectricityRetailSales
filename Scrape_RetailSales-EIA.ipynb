{
 "cells": [
  {
   "cell_type": "markdown",
   "metadata": {},
   "source": [
    "## Scrapping Retail-Sales Data from EIA"
   ]
  },
  {
   "cell_type": "markdown",
   "metadata": {},
   "source": [
    "#### Import the necessary libraries"
   ]
  },
  {
   "cell_type": "code",
   "execution_count": null,
   "metadata": {},
   "outputs": [],
   "source": [
    "import requests\n",
    "import pandas as pd\n",
    "import datetime\n",
    "import time\n",
    "import requests\n",
    "import json"
   ]
  },
  {
   "cell_type": "markdown",
   "metadata": {},
   "source": [
    "#### Script to scrape data and save the output file in .json format"
   ]
  },
  {
   "cell_type": "code",
   "execution_count": null,
   "metadata": {},
   "outputs": [],
   "source": [
    "# Define a list of dates to change in the URL for each API call\n",
    "dates = ['2010-09','2011-08','2011-09','2012-08','2012-09','2013-08','2013-09','2014-08','2014-09','2015-08','2015-09','2016-08','2016-09','2017-08','2017-09','2018-08','2018-09','2019-08','2019-09','2020-08','2020-09','2021-08','2021-09','2022-08','2022-09','2023-08']  \n",
    "\n",
    "# Define the base API endpoint\n",
    "base_url = 'https://api.eia.gov/v2/electricity/retail-sales/data/?api_key=[XXXXXX]&frequency=monthly&data[0]=customers&data[1]=price&data[2]=revenue&data[3]=sales'\n",
    "\n",
    "# Initialize an empty list to store the API responses\n",
    "api_responses = []\n",
    "\n",
    "for i in range(0,len(dates)-1,2):\n",
    "    # Get the current timestamp\n",
    "    print(time.strftime(\"%Y-%m-%d %H:%M:%S\"))\n",
    "    # Create the API URL with the value you want to change\n",
    "    api_url = f'{base_url}&start={dates[i]}&end={dates[i+1]}&sort[0][column]=period&sort[0][direction]=desc&offset=0&length=5000'\n",
    "\n",
    "    # Send a GET request to the API\n",
    "    response = requests.get(api_url)\n",
    "\n",
    "    # Check if the request was successful (status code 200)\n",
    "    if response.status_code == 200:\n",
    "        # Parse the JSON data from the response\n",
    "        data = response.json()\n",
    "        \n",
    "        # Append the API response to the list\n",
    "        api_responses.append(data)\n",
    "    else:\n",
    "        # If the request was not successful, print an error message\n",
    "        print(f\"Request for value '{dates[i]}' failed with status code {response.status_code}\")\n",
    "    \n",
    "    print(time.strftime(\"%Y-%m-%d %H:%M:%S\"))\n",
    "    time.sleep(5)\n",
    "\n",
    "\n",
    "# Define the filename to save the JSON data\n",
    "output_file = 'api_responses.json'\n",
    "\n",
    "with open(output_file, 'w') as file:\n",
    "    json.dump(api_responses, file, indent=4)\n",
    "\n",
    "print(f'API responses saved to {output_file}')\n"
   ]
  }
 ],
 "metadata": {
  "language_info": {
   "name": "python"
  }
 },
 "nbformat": 4,
 "nbformat_minor": 2
}
